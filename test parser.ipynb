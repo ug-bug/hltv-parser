{
 "cells": [
  {
   "cell_type": "code",
   "execution_count": 17,
   "id": "87c77d1c",
   "metadata": {},
   "outputs": [],
   "source": [
    "import requests\n",
    "from bs4 import BeautifulSoup\n",
    "import pandas as pd\n",
    "from tqdm import tqdm\n",
    "from datetime import date"
   ]
  },
  {
   "cell_type": "code",
   "execution_count": 18,
   "id": "9d01cca5",
   "metadata": {},
   "outputs": [],
   "source": [
    "maps = {47 : \"Ancient\",\n",
    "       29 : \"Cache\",\n",
    "       39 : \"Cobblestone\", \n",
    "       31 : \"Dust2\", \n",
    "       33 : \"Inferno\",\n",
    "       32 : \"Mirage\",\n",
    "       34 : \"Nuke\",\n",
    "       40 : \"Overpass\",\n",
    "       30 : \"Seasons\", \n",
    "       35 : \"Train\", \n",
    "       46 : \"Vertigo\"}"
   ]
  },
  {
   "cell_type": "code",
   "execution_count": 19,
   "id": "a9c020ba",
   "metadata": {},
   "outputs": [],
   "source": [
    "main_url = \"https://www.hltv.org/stats/teams\""
   ]
  },
  {
   "cell_type": "code",
   "execution_count": 20,
   "id": "dec6e6fd",
   "metadata": {},
   "outputs": [],
   "source": [
    "def correct_format(string):\n",
    "    \n",
    "    string = string.split()\n",
    "    string = \"-\".join(string)\n",
    "    \n",
    "    return string.lower()"
   ]
  },
  {
   "cell_type": "code",
   "execution_count": 21,
   "id": "461e81ed",
   "metadata": {},
   "outputs": [],
   "source": [
    "months = {\"Jan\" : 1,\n",
    "          \"Feb\" : 2,\n",
    "          \"Mar\" : 3, \n",
    "          \"Apr\" : 4,\n",
    "          \"May\" : 5,\n",
    "          \"Jun\" : 6,\n",
    "          \"Jul\" : 7,\n",
    "          \"Aug\" : 8,\n",
    "          \"Sep\" : 9, \n",
    "          \"Oct\" : 10, \n",
    "          \"Nov\" : 11,\n",
    "          \"Dec\" : 12}"
   ]
  },
  {
   "cell_type": "code",
   "execution_count": 22,
   "id": "275322a8",
   "metadata": {},
   "outputs": [],
   "source": [
    "def convert_hltv_date(hltv_date):\n",
    "    \n",
    "    hltv_date = hltv_date.split()\n",
    "    month = months[hltv_date[0]]\n",
    "    year = int(hltv_date[1])\n",
    "\n",
    "    return date(year, month, 1)"
   ]
  },
  {
   "cell_type": "code",
   "execution_count": 23,
   "id": "ece95d22",
   "metadata": {},
   "outputs": [],
   "source": [
    "class roster():\n",
    "    def __init__(self, lineup, start_date, end_date):\n",
    "        \n",
    "        self._lineup = lineup\n",
    "        self._start_date = start_date\n",
    "        self._end_date = end_date\n",
    "\n",
    "    def get_lineup(self):\n",
    "        return self._lineup\n",
    "    \n",
    "    def get_dates(self):\n",
    "        return self._start_date, self._end_date"
   ]
  },
  {
   "cell_type": "code",
   "execution_count": 24,
   "id": "aa845ff9",
   "metadata": {},
   "outputs": [],
   "source": [
    "def str_to_date(string):\n",
    "    \n",
    "    day, month, year = map(int, string.split(\"/\"))\n",
    "    \n",
    "    year += 2000\n",
    "    \n",
    "    return date(year, month, day)"
   ]
  },
  {
   "cell_type": "code",
   "execution_count": 25,
   "id": "4b3b6ca6",
   "metadata": {},
   "outputs": [],
   "source": [
    "class match():\n",
    "    def __init__(self, score_1, score_2, team_1, team_2, event, map_name, dates):\n",
    "        self.score = [score_1, score_2]\n",
    "        self.participants = [team_1, team_2]\n",
    "        self.map = map_name\n",
    "        self.event = event\n",
    "        self.date = dates"
   ]
  },
  {
   "cell_type": "code",
   "execution_count": 26,
   "id": "a480eea5",
   "metadata": {},
   "outputs": [],
   "source": [
    "class TableParser():\n",
    "    \n",
    "    def __init__(self):\n",
    "        pass\n",
    "    \n",
    "    def get_table(self, url):\n",
    "    \n",
    "        html_text = requests.get(url).text\n",
    "        soup = BeautifulSoup(html_text, 'html.parser')\n",
    "        table = soup.find(\"table\")\n",
    "    \n",
    "        return table\n",
    "    \n",
    "    def get_stats_from_table(self, table, map_title):\n",
    "    \n",
    "        stats = []\n",
    "        columns = {0 : \"date\", \n",
    "               1 : \"opponent\", \n",
    "               2 : \"event\", \n",
    "               3 : \"result\"}\n",
    "\n",
    "        for row in table.get_rows():\n",
    "\n",
    "            team_1 = team_name\n",
    "\n",
    "            for j, elem in enumerate(row.findAll(\"td\")):\n",
    "\n",
    "                if columns[j] == \"result\":\n",
    "\n",
    "                    score_1 = int(elem.text.split()[0])\n",
    "                    score_2 = int(elem.text.split()[-1])\n",
    "\n",
    "                elif columns[j] == \"opponent\": team_2 = correct_format(elem.text)\n",
    "\n",
    "                elif columns[j] == \"date\": match_date = str_to_date(elem.text)\n",
    "                else: event = elem.text\n",
    "                    \n",
    "            current_match = match(score_1, score_2, team_1, team_2, event, map_title, match_date)\n",
    "\n",
    "            stats.append(current_match)\n",
    "\n",
    "        return stats"
   ]
  },
  {
   "cell_type": "code",
   "execution_count": 27,
   "id": "769c33b4",
   "metadata": {},
   "outputs": [],
   "source": [
    "class Team():\n",
    "    \n",
    "    def __init__(self, team_name, team_id):\n",
    "        \n",
    "        self._name = team_name\n",
    "        self._id = team_id\n",
    "        self._rosters = []\n",
    "        \n",
    "    def add_roster(self, roster):\n",
    "        \n",
    "        self._rosters.append(roster)\n",
    "    \n",
    "    def get_rosters(self):\n",
    "        \n",
    "        for roster in self._rosters:\n",
    "            yield roster\n",
    "            \n",
    "    def get_name(self):\n",
    "        return self._name\n",
    "    \n",
    "    def get_id(self):\n",
    "        return self._id\n",
    "    \n",
    "    def get_lineup(self, date):\n",
    "    \n",
    "        for roster in self._rosters:\n",
    "            dates = roster.get_dates()\n",
    "\n",
    "\n",
    "            if date >= dates[0] and date < dates[1]:\n",
    "                lineup = roster.get_lineup()\n",
    "                return lineup\n",
    "        return None\n",
    "        "
   ]
  },
  {
   "cell_type": "code",
   "execution_count": 28,
   "id": "cd378b48",
   "metadata": {},
   "outputs": [],
   "source": [
    "class Table():\n",
    "    \n",
    "    def __init__(self, table):\n",
    "        \n",
    "        self._rows = table.findAll(\"tr\")\n",
    "        \n",
    "    def get_rows(self):\n",
    "        \n",
    "        return self._rows[1:]\n",
    "        "
   ]
  },
  {
   "cell_type": "markdown",
   "id": "51617b28",
   "metadata": {},
   "source": [
    "Getting most popular teams id and names"
   ]
  },
  {
   "cell_type": "code",
   "execution_count": 29,
   "id": "03f03ed4",
   "metadata": {},
   "outputs": [],
   "source": [
    "parser = TableParser()\n",
    "teams_table = Table(parser.get_table(main_url))\n",
    "teams = []\n",
    "\n",
    "for row in teams_table.get_rows():\n",
    "    \n",
    "    elem = row.findAll(\"td\")[0]\n",
    "    href = str(elem.find(\"a\").get(\"href\"))\n",
    "    href = href.split(\"/\")\n",
    "    team_id = href[-2]\n",
    "\n",
    "    team_name = correct_format(href[-1])\n",
    "\n",
    "    current_team = Team(team_name, team_id)\n",
    "    teams.append(current_team)"
   ]
  },
  {
   "cell_type": "code",
   "execution_count": 30,
   "id": "b697dee2",
   "metadata": {},
   "outputs": [],
   "source": [
    "for team in teams:\n",
    "    \n",
    "    team_id = team.get_id()\n",
    "    team_name = team.get_name()\n",
    "    \n",
    "    roster_url = f'{main_url}/lineups/{team_id}/{team_name}'\n",
    "    html_text = requests.get(roster_url).text\n",
    "    soup = BeautifulSoup(html_text, 'html.parser')\n",
    "    \n",
    "    for elem in soup.findAll(\"div\", class_ = \"lineup-container\"):\n",
    "\n",
    "        raw_lineup = elem.findAll(\"div\", class_ = \"text-ellipsis\")\n",
    "        \n",
    "        lineup = []\n",
    "        \n",
    "        for i in raw_lineup:\n",
    "            \n",
    "            lineup.append(i.text)\n",
    "            \n",
    "\n",
    "\n",
    "        lineup_date = elem.findAll(\"div\", class_ = \"lineup-year\")\n",
    "        \n",
    "        for month in lineup_date:\n",
    "\n",
    "            dates = month.findAll(\"span\")[:-1]\n",
    "\n",
    "            if len(dates) == 1:\n",
    "\n",
    "                start_date = convert_hltv_date(dates[0].text)\n",
    "                end_date = date.today()\n",
    "\n",
    "            else:\n",
    "\n",
    "                start_date = convert_hltv_date(dates[0].text)\n",
    "                end_date = convert_hltv_date(dates[1].text)\n",
    "\n",
    "        team.add_roster(roster(lineup, start_date, end_date))"
   ]
  },
  {
   "cell_type": "markdown",
   "id": "45d0aaa6",
   "metadata": {},
   "source": [
    "Getting final stats for all time"
   ]
  },
  {
   "cell_type": "code",
   "execution_count": null,
   "id": "6733d545",
   "metadata": {},
   "outputs": [
    {
     "name": "stderr",
     "output_type": "stream",
     "text": [
      "\r",
      "  0%|                                                                                           | 0/62 [00:00<?, ?it/s]"
     ]
    }
   ],
   "source": [
    "stats = []\n",
    "\n",
    "for team in tqdm(teams):\n",
    "    for map_id, map_title in maps.items():\n",
    "        \n",
    "        team_id = team.get_id()\n",
    "        team_name = team.get_name()\n",
    "        \n",
    "        current_url = f'{main_url}/map/{map_id}/{team_id}/{team_name}'\n",
    "        #print(current_url)\n",
    "        \n",
    "        current_table = Table(parser.get_table(current_url))\n",
    "        stats += parser.get_stats_from_table(current_table, map_title)\n",
    "        "
   ]
  },
  {
   "cell_type": "markdown",
   "id": "91118602",
   "metadata": {},
   "source": [
    "Getting teams lineups"
   ]
  },
  {
   "cell_type": "code",
   "execution_count": null,
   "id": "e064427a",
   "metadata": {},
   "outputs": [],
   "source": [
    "for game in stats:\n",
    "    \n",
    "    team_1, team_2 = game.participants\n",
    "    date = game.date\n",
    "    \n",
    "    for team in teams:\n",
    "        if team.get_name() == team_1:\n",
    "            lineup_1 = team.get_lineup(date)\n",
    "            break\n",
    "    for team in teams:\n",
    "        if team.get_name() == team_2:\n",
    "            lineup_2 = team.get_lineup(date)\n",
    "            break\n",
    "    \n",
    "    game.lineups = [lineup_1, lineup_2]"
   ]
  },
  {
   "cell_type": "code",
   "execution_count": null,
   "id": "4b62b412",
   "metadata": {},
   "outputs": [],
   "source": []
  }
 ],
 "metadata": {
  "kernelspec": {
   "display_name": "Python 3 (ipykernel)",
   "language": "python",
   "name": "python3"
  },
  "language_info": {
   "codemirror_mode": {
    "name": "ipython",
    "version": 3
   },
   "file_extension": ".py",
   "mimetype": "text/x-python",
   "name": "python",
   "nbconvert_exporter": "python",
   "pygments_lexer": "ipython3",
   "version": "3.9.13"
  }
 },
 "nbformat": 4,
 "nbformat_minor": 5
}
