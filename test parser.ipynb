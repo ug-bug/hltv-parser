{
 "cells": [
  {
   "cell_type": "code",
   "execution_count": 34,
   "id": "87c77d1c",
   "metadata": {},
   "outputs": [],
   "source": [
    "import requests\n",
    "from bs4 import BeautifulSoup\n",
    "import pandas as pd\n",
    "from tqdm import tqdm\n",
    "from datetime import date"
   ]
  },
  {
   "cell_type": "code",
   "execution_count": 35,
   "id": "9d01cca5",
   "metadata": {},
   "outputs": [],
   "source": [
    "maps = {47 : \"Ancient\",\n",
    "       29 : \"Cache\",\n",
    "       39 : \"Cobblestone\", \n",
    "       31 : \"Dust2\", \n",
    "       33 : \"Inferno\",\n",
    "       32 : \"Mirage\",\n",
    "       34 : \"Nuke\",\n",
    "       40 : \"Overpass\",\n",
    "       30 : \"Seasons\", \n",
    "       35 : \"Train\", \n",
    "       46 : \"Vertigo\"}"
   ]
  },
  {
   "cell_type": "code",
   "execution_count": 36,
   "id": "a9c020ba",
   "metadata": {},
   "outputs": [],
   "source": [
    "main_url = \"https://www.hltv.org/stats/teams\""
   ]
  },
  {
   "cell_type": "code",
   "execution_count": 37,
   "id": "bb5f3832",
   "metadata": {},
   "outputs": [],
   "source": [
    "def get_table(url):\n",
    "    \n",
    "    html_text = requests.get(url).text\n",
    "    soup = BeautifulSoup(html_text, 'html.parser')\n",
    "    table = soup.find(\"table\")\n",
    "    \n",
    "    return table"
   ]
  },
  {
   "cell_type": "code",
   "execution_count": 38,
   "id": "dec6e6fd",
   "metadata": {},
   "outputs": [],
   "source": [
    "def correct_format(string):\n",
    "    \n",
    "    string = string.split()\n",
    "    string = \"-\".join(string)\n",
    "    \n",
    "    return string.lower()"
   ]
  },
  {
   "cell_type": "markdown",
   "id": "51617b28",
   "metadata": {},
   "source": [
    "Getting most popular teams id and names"
   ]
  },
  {
   "cell_type": "code",
   "execution_count": 39,
   "id": "b98ca930",
   "metadata": {},
   "outputs": [],
   "source": [
    "teams_table = get_table(main_url)\n",
    "teams = dict()\n",
    "\n",
    "for i, row in enumerate(teams_table.findAll(\"tr\")):\n",
    "    \n",
    "    if i == 0: continue\n",
    "    for j, elem in enumerate(row.findAll(\"td\")):\n",
    "        \n",
    "        if j == 0:\n",
    "            \n",
    "            href = str(elem.find(\"a\").get(\"href\"))\n",
    "            href = href.split(\"/\")\n",
    "            team_id = href[-2]\n",
    "            \n",
    "            if team_id not in teams.keys():\n",
    "                \n",
    "                team_name = correct_format(href[-1])\n",
    "                teams[team_id] = team_name\n"
   ]
  },
  {
   "cell_type": "code",
   "execution_count": 40,
   "id": "ae6d75ac",
   "metadata": {
    "scrolled": true
   },
   "outputs": [
    {
     "data": {
      "text/plain": [
       "{'4863': 'tyloo',\n",
       " '6211': 'renegades',\n",
       " '8668': 'order',\n",
       " '7606': 'vici',\n",
       " '9565': 'vitality',\n",
       " '5929': 'space-soldiers',\n",
       " '9215': 'mibr',\n",
       " '8297': 'furia',\n",
       " '10577': 'sinners',\n",
       " '5973': 'liquid',\n",
       " '6667': 'faze',\n",
       " '6665': 'astralis',\n",
       " '5310': 'hellraisers',\n",
       " '7533': 'north',\n",
       " '7532': 'big',\n",
       " '4991': 'fnatic',\n",
       " '4411': 'ninjas-in-pyjamas',\n",
       " '4494': 'mouz',\n",
       " '5995': 'g2',\n",
       " '5005': 'complexity',\n",
       " '8135': 'forze',\n",
       " '4773': 'pain',\n",
       " '5422': 'dignitas',\n",
       " '6134': 'kinguin',\n",
       " '6290': 'luminosity',\n",
       " '5988': 'flipsid3',\n",
       " '5752': 'cloud9',\n",
       " '6947': 'teamone',\n",
       " '6010': 'chiefs',\n",
       " '9928': 'gamerlegion',\n",
       " '8637': 'sprout',\n",
       " '4869': 'ence',\n",
       " '4608': 'natus-vincere',\n",
       " '6902': 'godsent',\n",
       " '6137': 'sk',\n",
       " '7234': 'endpoint',\n",
       " '7865': 'havu',\n",
       " '6978': 'singularity',\n",
       " '5378': 'virtuspro',\n",
       " '6615': 'optic',\n",
       " '5991': 'envy',\n",
       " '7175': 'heroic',\n",
       " '4688': 'epsilon',\n",
       " '10386': 'skade',\n",
       " '7969': 'nemiga',\n",
       " '7718': 'movistar-riders',\n",
       " '7020': 'spirit',\n",
       " '6673': 'nrg',\n",
       " '7653': 'isurus',\n",
       " '5395': 'penta',\n",
       " '8068': 'ago',\n",
       " '4674': 'ldlc',\n",
       " '6651': 'gambit',\n",
       " '7187': 'nexus',\n",
       " '8120': 'avangar',\n",
       " '8504': 'sj',\n",
       " '10567': 'saw',\n",
       " '7461': 'copenhagen-flames',\n",
       " '4602': 'tricked',\n",
       " '8248': 'pact',\n",
       " '4501': 'alternate-attax',\n",
       " '7681': 'izako-boars'}"
      ]
     },
     "execution_count": 40,
     "metadata": {},
     "output_type": "execute_result"
    }
   ],
   "source": [
    "teams"
   ]
  },
  {
   "cell_type": "markdown",
   "id": "91118602",
   "metadata": {},
   "source": [
    "Getting teams lineups"
   ]
  },
  {
   "cell_type": "code",
   "execution_count": 41,
   "id": "461e81ed",
   "metadata": {},
   "outputs": [],
   "source": [
    "months = {\"Jan\" : 1,\n",
    "          \"Feb\" : 2,\n",
    "          \"Mar\" : 3, \n",
    "          \"Apr\" : 4,\n",
    "          \"May\" : 5,\n",
    "          \"Jun\" : 6,\n",
    "          \"Jul\" : 7,\n",
    "          \"Aug\" : 8,\n",
    "          \"Sep\" : 9, \n",
    "          \"Oct\" : 10, \n",
    "          \"Nov\" : 11,\n",
    "          \"Dec\" : 12}"
   ]
  },
  {
   "cell_type": "code",
   "execution_count": 42,
   "id": "275322a8",
   "metadata": {},
   "outputs": [],
   "source": [
    "def convert_hltv_date(hltv_date):\n",
    "    \n",
    "    hltv_date = hltv_date.split()\n",
    "    month = months[hltv_date[0]]\n",
    "    year = int(hltv_date[1])\n",
    "\n",
    "    return date(year, month, 1)"
   ]
  },
  {
   "cell_type": "code",
   "execution_count": 43,
   "id": "ece95d22",
   "metadata": {},
   "outputs": [],
   "source": [
    "class roster():\n",
    "    def __init__(self, lineup, start_date, end_date):\n",
    "        self.lineup = lineup\n",
    "        self.start_date = start_date\n",
    "        self.end_date = end_date\n",
    "    def get_lineup(self):\n",
    "        return self.lineup\n",
    "    def get_dates(self):\n",
    "        return self.start_date, self.end_date"
   ]
  },
  {
   "cell_type": "code",
   "execution_count": 44,
   "id": "bd25ad10",
   "metadata": {},
   "outputs": [
    {
     "name": "stderr",
     "output_type": "stream",
     "text": [
      "100%|██████████████████████████████████████████████████████████████████████████████████| 62/62 [00:51<00:00,  1.20it/s]\n"
     ]
    }
   ],
   "source": [
    "rosters = dict()\n",
    "\n",
    "\n",
    "for team_id, team_name in tqdm(teams.items()):\n",
    "    \n",
    "    roster_url = f'{main_url}/lineups/{team_id}/{team_name}'\n",
    "    html_text = requests.get(roster_url).text\n",
    "    soup = BeautifulSoup(html_text, 'html.parser')\n",
    "    \n",
    "    for elem in soup.findAll(\"div\", class_ = \"lineup-container\"):\n",
    "\n",
    "        raw_lineup = elem.findAll(\"div\", class_ = \"text-ellipsis\")\n",
    "        \n",
    "        lineup = []\n",
    "        \n",
    "        for i in raw_lineup:\n",
    "            \n",
    "            lineup.append(i.text)\n",
    "            \n",
    "\n",
    "\n",
    "        lineup_date = elem.findAll(\"div\", class_ = \"lineup-year\")\n",
    "        \n",
    "        for month in lineup_date:\n",
    "\n",
    "            dates = month.findAll(\"span\")[:-1]\n",
    "\n",
    "            if len(dates) == 1:\n",
    "\n",
    "                start_date = convert_hltv_date(dates[0].text)\n",
    "                end_date = date.today()\n",
    "\n",
    "            else:\n",
    "\n",
    "                start_date = convert_hltv_date(dates[0].text)\n",
    "                end_date = convert_hltv_date(dates[1].text)\n",
    "\n",
    "        if team_name not in rosters.keys(): rosters[team_name] = [roster(lineup, start_date, end_date)]\n",
    "\n",
    "        else: rosters[team_name].append(roster(lineup, start_date, end_date))"
   ]
  },
  {
   "cell_type": "code",
   "execution_count": 45,
   "id": "5726a5ef",
   "metadata": {},
   "outputs": [
    {
     "data": {
      "text/plain": [
       "{'tyloo': [<__main__.roster at 0x21c0ff1e310>,\n",
       "  <__main__.roster at 0x21c0ff1e130>,\n",
       "  <__main__.roster at 0x21c0ff1e190>,\n",
       "  <__main__.roster at 0x21c0ff73790>,\n",
       "  <__main__.roster at 0x21c0ff73220>,\n",
       "  <__main__.roster at 0x21c0ff73b50>,\n",
       "  <__main__.roster at 0x21c0ff738e0>,\n",
       "  <__main__.roster at 0x21c0ff73c70>,\n",
       "  <__main__.roster at 0x21c0ff73460>,\n",
       "  <__main__.roster at 0x21c0ff735e0>,\n",
       "  <__main__.roster at 0x21c0ff738b0>],\n",
       " 'renegades': [<__main__.roster at 0x21c0ff735b0>,\n",
       "  <__main__.roster at 0x21c0ff73100>,\n",
       "  <__main__.roster at 0x21c114b1ee0>,\n",
       "  <__main__.roster at 0x21c0ff73be0>,\n",
       "  <__main__.roster at 0x21c114b1eb0>,\n",
       "  <__main__.roster at 0x21c11485040>,\n",
       "  <__main__.roster at 0x21c11485160>,\n",
       "  <__main__.roster at 0x21c11485280>,\n",
       "  <__main__.roster at 0x21c114852e0>,\n",
       "  <__main__.roster at 0x21c11485340>,\n",
       "  <__main__.roster at 0x21c114853a0>,\n",
       "  <__main__.roster at 0x21c11485400>],\n",
       " 'order': [<__main__.roster at 0x21c11485460>,\n",
       "  <__main__.roster at 0x21c11485220>,\n",
       "  <__main__.roster at 0x21c11485100>,\n",
       "  <__main__.roster at 0x21c11342400>,\n",
       "  <__main__.roster at 0x21c113425b0>,\n",
       "  <__main__.roster at 0x21c113426a0>,\n",
       "  <__main__.roster at 0x21c11342700>,\n",
       "  <__main__.roster at 0x21c11342760>],\n",
       " 'vici': [<__main__.roster at 0x21c113427c0>,\n",
       "  <__main__.roster at 0x21c11342640>,\n",
       "  <__main__.roster at 0x21c11342520>,\n",
       "  <__main__.roster at 0x21c0ffd0670>,\n",
       "  <__main__.roster at 0x21c0ffd0820>,\n",
       "  <__main__.roster at 0x21c0ffd0910>,\n",
       "  <__main__.roster at 0x21c0ffd0970>],\n",
       " 'vitality': [<__main__.roster at 0x21c0ffd09d0>,\n",
       "  <__main__.roster at 0x21c0ffd07f0>,\n",
       "  <__main__.roster at 0x21c0ffd0730>,\n",
       "  <__main__.roster at 0x21c0fad8a60>,\n",
       "  <__main__.roster at 0x21c0fad8c10>,\n",
       "  <__main__.roster at 0x21c0fad8d00>,\n",
       "  <__main__.roster at 0x21c0fad8d60>,\n",
       "  <__main__.roster at 0x21c0fad8dc0>],\n",
       " 'space-soldiers': [<__main__.roster at 0x21c0fad8e20>,\n",
       "  <__main__.roster at 0x21c0fad8ca0>,\n",
       "  <__main__.roster at 0x21c0fad8b80>,\n",
       "  <__main__.roster at 0x21c10c942b0>,\n",
       "  <__main__.roster at 0x21c10c94460>,\n",
       "  <__main__.roster at 0x21c10c94550>,\n",
       "  <__main__.roster at 0x21c10c945b0>],\n",
       " 'mibr': [<__main__.roster at 0x21c10c94610>,\n",
       "  <__main__.roster at 0x21c104fd340>,\n",
       "  <__main__.roster at 0x21c7ed73eb0>,\n",
       "  <__main__.roster at 0x21c105ade50>,\n",
       "  <__main__.roster at 0x21c104fd1c0>,\n",
       "  <__main__.roster at 0x21c105ad2e0>,\n",
       "  <__main__.roster at 0x21c10c94490>,\n",
       "  <__main__.roster at 0x21c104bb3d0>,\n",
       "  <__main__.roster at 0x21c10c94430>,\n",
       "  <__main__.roster at 0x21c0f7826a0>,\n",
       "  <__main__.roster at 0x21c0f782760>,\n",
       "  <__main__.roster at 0x21c0f782df0>],\n",
       " 'furia': [<__main__.roster at 0x21c0f7825e0>,\n",
       "  <__main__.roster at 0x21c0f7824f0>,\n",
       "  <__main__.roster at 0x21c0f7823d0>,\n",
       "  <__main__.roster at 0x21c10346d60>,\n",
       "  <__main__.roster at 0x21c10346c40>,\n",
       "  <__main__.roster at 0x21c10346a00>,\n",
       "  <__main__.roster at 0x21c10346ca0>,\n",
       "  <__main__.roster at 0x21c10346b80>],\n",
       " 'sinners': [<__main__.roster at 0x21c10346820>,\n",
       "  <__main__.roster at 0x21c10346be0>,\n",
       "  <__main__.roster at 0x21c10346a30>,\n",
       "  <__main__.roster at 0x21c0ff4b7f0>,\n",
       "  <__main__.roster at 0x21c0ff4b9a0>],\n",
       " 'liquid': [<__main__.roster at 0x21c0ff4ba90>,\n",
       "  <__main__.roster at 0x21c0ff4b970>,\n",
       "  <__main__.roster at 0x21c0ff4ba00>,\n",
       "  <__main__.roster at 0x21c101b1610>,\n",
       "  <__main__.roster at 0x21c101b17c0>,\n",
       "  <__main__.roster at 0x21c101b18b0>,\n",
       "  <__main__.roster at 0x21c101b1910>,\n",
       "  <__main__.roster at 0x21c101b1970>,\n",
       "  <__main__.roster at 0x21c101b19d0>,\n",
       "  <__main__.roster at 0x21c101b1a30>,\n",
       "  <__main__.roster at 0x21c101b1a90>,\n",
       "  <__main__.roster at 0x21c101b1af0>,\n",
       "  <__main__.roster at 0x21c101b1b50>,\n",
       "  <__main__.roster at 0x21c101b1bb0>,\n",
       "  <__main__.roster at 0x21c101b1c10>],\n",
       " 'faze': [<__main__.roster at 0x21c101b1c70>,\n",
       "  <__main__.roster at 0x21c101b15e0>,\n",
       "  <__main__.roster at 0x21c10855fa0>,\n",
       "  <__main__.roster at 0x21c101b17f0>,\n",
       "  <__main__.roster at 0x21c101b1820>,\n",
       "  <__main__.roster at 0x21c10855e80>,\n",
       "  <__main__.roster at 0x21c1084d040>,\n",
       "  <__main__.roster at 0x21c1084d250>,\n",
       "  <__main__.roster at 0x21c1084d2b0>,\n",
       "  <__main__.roster at 0x21c1084d310>,\n",
       "  <__main__.roster at 0x21c1084d370>,\n",
       "  <__main__.roster at 0x21c1084d3d0>,\n",
       "  <__main__.roster at 0x21c1084d430>,\n",
       "  <__main__.roster at 0x21c1084d490>,\n",
       "  <__main__.roster at 0x21c1084d4f0>,\n",
       "  <__main__.roster at 0x21c1084d550>,\n",
       "  <__main__.roster at 0x21c1084d5b0>],\n",
       " 'astralis': [<__main__.roster at 0x21c1084d610>,\n",
       "  <__main__.roster at 0x21c1084d130>,\n",
       "  <__main__.roster at 0x21c1084d1c0>,\n",
       "  <__main__.roster at 0x21c115b5820>,\n",
       "  <__main__.roster at 0x21c115b59d0>,\n",
       "  <__main__.roster at 0x21c115b5ac0>,\n",
       "  <__main__.roster at 0x21c115b5b20>,\n",
       "  <__main__.roster at 0x21c115b5b80>,\n",
       "  <__main__.roster at 0x21c115b5be0>],\n",
       " 'hellraisers': [<__main__.roster at 0x21c115b5c40>,\n",
       "  <__main__.roster at 0x21c115b59a0>,\n",
       "  <__main__.roster at 0x21c115b57f0>,\n",
       "  <__main__.roster at 0x21c1173f670>,\n",
       "  <__main__.roster at 0x21c1173f430>,\n",
       "  <__main__.roster at 0x21c1173fb80>,\n",
       "  <__main__.roster at 0x21c1173f4f0>,\n",
       "  <__main__.roster at 0x21c1173f340>,\n",
       "  <__main__.roster at 0x21c1173f490>,\n",
       "  <__main__.roster at 0x21c1173f760>,\n",
       "  <__main__.roster at 0x21c1173f370>,\n",
       "  <__main__.roster at 0x21c1173fca0>,\n",
       "  <__main__.roster at 0x21c1173f640>,\n",
       "  <__main__.roster at 0x21c1173fc70>,\n",
       "  <__main__.roster at 0x21c1173f610>,\n",
       "  <__main__.roster at 0x21c1173fdc0>,\n",
       "  <__main__.roster at 0x21c1173fa30>,\n",
       "  <__main__.roster at 0x21c1173f7f0>,\n",
       "  <__main__.roster at 0x21c1173faf0>],\n",
       " 'north': [<__main__.roster at 0x21c1173fbe0>,\n",
       "  <__main__.roster at 0x21c1099a640>,\n",
       "  <__main__.roster at 0x21c1173f160>,\n",
       "  <__main__.roster at 0x21c1173f2b0>,\n",
       "  <__main__.roster at 0x21c1099a370>,\n",
       "  <__main__.roster at 0x21c1173f9a0>,\n",
       "  <__main__.roster at 0x21c1099a2e0>,\n",
       "  <__main__.roster at 0x21c1099a3a0>,\n",
       "  <__main__.roster at 0x21c116b3760>,\n",
       "  <__main__.roster at 0x21c116b3340>],\n",
       " 'big': [<__main__.roster at 0x21c116b3040>,\n",
       "  <__main__.roster at 0x21c116b3b20>,\n",
       "  <__main__.roster at 0x21c116b3250>,\n",
       "  <__main__.roster at 0x21c10b51d00>,\n",
       "  <__main__.roster at 0x21c10b51eb0>,\n",
       "  <__main__.roster at 0x21c10b51fa0>,\n",
       "  <__main__.roster at 0x21c10b51e50>,\n",
       "  <__main__.roster at 0x21c10b51e80>,\n",
       "  <__main__.roster at 0x21c10b51df0>,\n",
       "  <__main__.roster at 0x21c10b51f40>,\n",
       "  <__main__.roster at 0x21c1022d070>,\n",
       "  <__main__.roster at 0x21c1022d160>,\n",
       "  <__main__.roster at 0x21c1022d280>],\n",
       " 'fnatic': [<__main__.roster at 0x21c1022d2e0>,\n",
       "  <__main__.roster at 0x21c1022d220>,\n",
       "  <__main__.roster at 0x21c1022d250>,\n",
       "  <__main__.roster at 0x21c11662910>,\n",
       "  <__main__.roster at 0x21c11662ac0>,\n",
       "  <__main__.roster at 0x21c11662bb0>,\n",
       "  <__main__.roster at 0x21c11662c10>,\n",
       "  <__main__.roster at 0x21c11662c70>,\n",
       "  <__main__.roster at 0x21c11662cd0>,\n",
       "  <__main__.roster at 0x21c11662d30>,\n",
       "  <__main__.roster at 0x21c11662d90>,\n",
       "  <__main__.roster at 0x21c11662df0>,\n",
       "  <__main__.roster at 0x21c11662e50>,\n",
       "  <__main__.roster at 0x21c11662eb0>,\n",
       "  <__main__.roster at 0x21c11662f10>,\n",
       "  <__main__.roster at 0x21c11662f70>,\n",
       "  <__main__.roster at 0x21c11662b50>,\n",
       "  <__main__.roster at 0x21c11662a90>],\n",
       " 'ninjas-in-pyjamas': [<__main__.roster at 0x21c11662fd0>,\n",
       "  <__main__.roster at 0x21c116720a0>,\n",
       "  <__main__.roster at 0x21c11672100>,\n",
       "  <__main__.roster at 0x21c0fd7a580>,\n",
       "  <__main__.roster at 0x21c0fd7a730>,\n",
       "  <__main__.roster at 0x21c0fd7a820>,\n",
       "  <__main__.roster at 0x21c0fd7a880>,\n",
       "  <__main__.roster at 0x21c0fd7a8e0>,\n",
       "  <__main__.roster at 0x21c0fd7a940>,\n",
       "  <__main__.roster at 0x21c0fd7a9a0>,\n",
       "  <__main__.roster at 0x21c0fd7aa00>,\n",
       "  <__main__.roster at 0x21c0fd7aa60>,\n",
       "  <__main__.roster at 0x21c0fd7aac0>,\n",
       "  <__main__.roster at 0x21c0fd7ab20>,\n",
       "  <__main__.roster at 0x21c0fd7ab80>,\n",
       "  <__main__.roster at 0x21c0fd7abe0>,\n",
       "  <__main__.roster at 0x21c0fd7ac40>,\n",
       "  <__main__.roster at 0x21c0fd7aca0>,\n",
       "  <__main__.roster at 0x21c0fd7ad00>],\n",
       " 'mouz': [<__main__.roster at 0x21c0fd7ad60>,\n",
       "  <__main__.roster at 0x21c10a5cb80>,\n",
       "  <__main__.roster at 0x21c0fd7a760>,\n",
       "  <__main__.roster at 0x21c0fd7a640>,\n",
       "  <__main__.roster at 0x21c1148db80>,\n",
       "  <__main__.roster at 0x21c1148dbe0>,\n",
       "  <__main__.roster at 0x21c1148d940>,\n",
       "  <__main__.roster at 0x21c1148dac0>,\n",
       "  <__main__.roster at 0x21c1148d2b0>,\n",
       "  <__main__.roster at 0x21c1148dc10>,\n",
       "  <__main__.roster at 0x21c1148d730>,\n",
       "  <__main__.roster at 0x21c1148d790>,\n",
       "  <__main__.roster at 0x21c1148dd30>,\n",
       "  <__main__.roster at 0x21c1148d430>,\n",
       "  <__main__.roster at 0x21c1148d700>,\n",
       "  <__main__.roster at 0x21c1148d7c0>,\n",
       "  <__main__.roster at 0x21c1148d910>,\n",
       "  <__main__.roster at 0x21c1148d9d0>,\n",
       "  <__main__.roster at 0x21c1148df70>,\n",
       "  <__main__.roster at 0x21c1148db20>,\n",
       "  <__main__.roster at 0x21c1148df10>,\n",
       "  <__main__.roster at 0x21c1148da30>],\n",
       " 'g2': [<__main__.roster at 0x21c1148dee0>,\n",
       "  <__main__.roster at 0x21c1148dc70>,\n",
       "  <__main__.roster at 0x21c1148de50>,\n",
       "  <__main__.roster at 0x21c1020a1f0>,\n",
       "  <__main__.roster at 0x21c1020a3a0>,\n",
       "  <__main__.roster at 0x21c1020a490>,\n",
       "  <__main__.roster at 0x21c1020a4f0>,\n",
       "  <__main__.roster at 0x21c1020a550>,\n",
       "  <__main__.roster at 0x21c1020a5b0>,\n",
       "  <__main__.roster at 0x21c1020a610>,\n",
       "  <__main__.roster at 0x21c1020a670>,\n",
       "  <__main__.roster at 0x21c1020a6d0>,\n",
       "  <__main__.roster at 0x21c1020a730>,\n",
       "  <__main__.roster at 0x21c1020a790>,\n",
       "  <__main__.roster at 0x21c1020a7f0>,\n",
       "  <__main__.roster at 0x21c1020a850>],\n",
       " 'complexity': [<__main__.roster at 0x21c1020a8b0>,\n",
       "  <__main__.roster at 0x21c1020a430>,\n",
       "  <__main__.roster at 0x21c1020a2e0>,\n",
       "  <__main__.roster at 0x21c10b0c400>,\n",
       "  <__main__.roster at 0x21c10b0c5b0>,\n",
       "  <__main__.roster at 0x21c10b0c6a0>,\n",
       "  <__main__.roster at 0x21c10b0c700>,\n",
       "  <__main__.roster at 0x21c10b0c760>,\n",
       "  <__main__.roster at 0x21c10b0c7c0>,\n",
       "  <__main__.roster at 0x21c10b0c820>,\n",
       "  <__main__.roster at 0x21c10b0c880>,\n",
       "  <__main__.roster at 0x21c10b0c8e0>,\n",
       "  <__main__.roster at 0x21c10b0c940>,\n",
       "  <__main__.roster at 0x21c10b0c9a0>],\n",
       " 'forze': [<__main__.roster at 0x21c10b0ca00>,\n",
       "  <__main__.roster at 0x21c10b0c640>,\n",
       "  <__main__.roster at 0x21c10b0c520>,\n",
       "  <__main__.roster at 0x21c10a8c940>,\n",
       "  <__main__.roster at 0x21c10a8caf0>,\n",
       "  <__main__.roster at 0x21c10a8cbe0>,\n",
       "  <__main__.roster at 0x21c10a8cc40>,\n",
       "  <__main__.roster at 0x21c10a8cca0>],\n",
       " 'pain': [<__main__.roster at 0x21c10a8cd00>,\n",
       "  <__main__.roster at 0x21c10a8cb80>,\n",
       "  <__main__.roster at 0x21c10a8ca60>,\n",
       "  <__main__.roster at 0x21c11626ca0>,\n",
       "  <__main__.roster at 0x21c11626e50>,\n",
       "  <__main__.roster at 0x21c11626f40>,\n",
       "  <__main__.roster at 0x21c11626fa0>,\n",
       "  <__main__.roster at 0x21c11626e80>],\n",
       " 'dignitas': [<__main__.roster at 0x21c11626dc0>,\n",
       "  <__main__.roster at 0x21c11614070>,\n",
       "  <__main__.roster at 0x21c116140d0>,\n",
       "  <__main__.roster at 0x21c10afb670>,\n",
       "  <__main__.roster at 0x21c10afb490>,\n",
       "  <__main__.roster at 0x21c10afb310>,\n",
       "  <__main__.roster at 0x21c10afb070>,\n",
       "  <__main__.roster at 0x21c10afb880>,\n",
       "  <__main__.roster at 0x21c10afb2b0>,\n",
       "  <__main__.roster at 0x21c10afb370>,\n",
       "  <__main__.roster at 0x21c10afb280>,\n",
       "  <__main__.roster at 0x21c10afb100>,\n",
       "  <__main__.roster at 0x21c10afb0d0>,\n",
       "  <__main__.roster at 0x21c10afb220>],\n",
       " 'kinguin': [<__main__.roster at 0x21c10afb130>,\n",
       "  <__main__.roster at 0x21c103eaa90>,\n",
       "  <__main__.roster at 0x21c10afb5b0>,\n",
       "  <__main__.roster at 0x21c10afb5e0>,\n",
       "  <__main__.roster at 0x21c10272a30>,\n",
       "  <__main__.roster at 0x21c10272130>,\n",
       "  <__main__.roster at 0x21c10272190>],\n",
       " 'luminosity': [<__main__.roster at 0x21c102722e0>,\n",
       "  <__main__.roster at 0x21c10272640>,\n",
       "  <__main__.roster at 0x21c102720d0>,\n",
       "  <__main__.roster at 0x21c10890c70>,\n",
       "  <__main__.roster at 0x21c108905e0>,\n",
       "  <__main__.roster at 0x21c10890490>,\n",
       "  <__main__.roster at 0x21c10890130>],\n",
       " 'flipsid3': [<__main__.roster at 0x21c10890580>,\n",
       "  <__main__.roster at 0x21c10890160>,\n",
       "  <__main__.roster at 0x21c10890070>,\n",
       "  <__main__.roster at 0x21c112b7580>,\n",
       "  <__main__.roster at 0x21c112b7730>,\n",
       "  <__main__.roster at 0x21c112b7820>],\n",
       " 'cloud9': [<__main__.roster at 0x21c112b7880>,\n",
       "  <__main__.roster at 0x21c112b77c0>,\n",
       "  <__main__.roster at 0x21c112b77f0>,\n",
       "  <__main__.roster at 0x21c11693760>,\n",
       "  <__main__.roster at 0x21c11693910>,\n",
       "  <__main__.roster at 0x21c11693a00>,\n",
       "  <__main__.roster at 0x21c11693a60>,\n",
       "  <__main__.roster at 0x21c11693ac0>,\n",
       "  <__main__.roster at 0x21c11693b20>,\n",
       "  <__main__.roster at 0x21c11693b80>,\n",
       "  <__main__.roster at 0x21c11693be0>,\n",
       "  <__main__.roster at 0x21c11693c40>,\n",
       "  <__main__.roster at 0x21c11693ca0>,\n",
       "  <__main__.roster at 0x21c11693d00>,\n",
       "  <__main__.roster at 0x21c11693d60>,\n",
       "  <__main__.roster at 0x21c11693dc0>,\n",
       "  <__main__.roster at 0x21c11693e20>],\n",
       " 'teamone': [<__main__.roster at 0x21c11693e80>,\n",
       "  <__main__.roster at 0x21c116938e0>,\n",
       "  <__main__.roster at 0x21c11693970>,\n",
       "  <__main__.roster at 0x21c10dfbbb0>,\n",
       "  <__main__.roster at 0x21c10dfbd60>,\n",
       "  <__main__.roster at 0x21c10dfbe50>,\n",
       "  <__main__.roster at 0x21c10dfbeb0>,\n",
       "  <__main__.roster at 0x21c10dfbf10>,\n",
       "  <__main__.roster at 0x21c10dfbf70>,\n",
       "  <__main__.roster at 0x21c10dfbd30>,\n",
       "  <__main__.roster at 0x21c10dfbdf0>,\n",
       "  <__main__.roster at 0x21c10dfbd90>,\n",
       "  <__main__.roster at 0x21c10dfbca0>,\n",
       "  <__main__.roster at 0x21c10dfbc70>,\n",
       "  <__main__.roster at 0x21c10de0040>,\n",
       "  <__main__.roster at 0x21c10de0250>],\n",
       " 'chiefs': [<__main__.roster at 0x21c10de02b0>,\n",
       "  <__main__.roster at 0x21c10de00a0>,\n",
       "  <__main__.roster at 0x21c10de0220>,\n",
       "  <__main__.roster at 0x21c11485eb0>,\n",
       "  <__main__.roster at 0x21c11485070>,\n",
       "  <__main__.roster at 0x21c11485730>,\n",
       "  <__main__.roster at 0x21c11485790>,\n",
       "  <__main__.roster at 0x21c11485ac0>,\n",
       "  <__main__.roster at 0x21c11485610>,\n",
       "  <__main__.roster at 0x21c11485c10>,\n",
       "  <__main__.roster at 0x21c11485a60>,\n",
       "  <__main__.roster at 0x21c11485dc0>],\n",
       " 'gamerlegion': [<__main__.roster at 0x21c114858b0>,\n",
       "  <__main__.roster at 0x21c103c3820>,\n",
       "  <__main__.roster at 0x21c11485b20>,\n",
       "  <__main__.roster at 0x21c114857f0>,\n",
       "  <__main__.roster at 0x21c105d4d00>,\n",
       "  <__main__.roster at 0x21c105d40d0>,\n",
       "  <__main__.roster at 0x21c105d47c0>,\n",
       "  <__main__.roster at 0x21c105d4b80>],\n",
       " 'sprout': [<__main__.roster at 0x21c105d4f10>,\n",
       "  <__main__.roster at 0x21c105d4fa0>,\n",
       "  <__main__.roster at 0x21c105d4ac0>,\n",
       "  <__main__.roster at 0x21c101115e0>,\n",
       "  <__main__.roster at 0x21c10111790>,\n",
       "  <__main__.roster at 0x21c10111880>,\n",
       "  <__main__.roster at 0x21c101118e0>,\n",
       "  <__main__.roster at 0x21c10111940>,\n",
       "  <__main__.roster at 0x21c101119a0>,\n",
       "  <__main__.roster at 0x21c10111a00>,\n",
       "  <__main__.roster at 0x21c10111a60>,\n",
       "  <__main__.roster at 0x21c10111ac0>,\n",
       "  <__main__.roster at 0x21c10111b20>,\n",
       "  <__main__.roster at 0x21c10111b80>,\n",
       "  <__main__.roster at 0x21c10111be0>],\n",
       " 'ence': [<__main__.roster at 0x21c10111c40>,\n",
       "  <__main__.roster at 0x21c10111760>,\n",
       "  <__main__.roster at 0x21c101115b0>,\n",
       "  <__main__.roster at 0x21c10fb1070>,\n",
       "  <__main__.roster at 0x21c10fb1220>,\n",
       "  <__main__.roster at 0x21c10fb1310>,\n",
       "  <__main__.roster at 0x21c10fb1370>,\n",
       "  <__main__.roster at 0x21c10fb13d0>,\n",
       "  <__main__.roster at 0x21c10fb1430>,\n",
       "  <__main__.roster at 0x21c10fb1490>],\n",
       " 'natus-vincere': [<__main__.roster at 0x21c10fb14f0>,\n",
       "  <__main__.roster at 0x21c10fb12b0>,\n",
       "  <__main__.roster at 0x21c10fb1160>,\n",
       "  <__main__.roster at 0x21c10143b20>,\n",
       "  <__main__.roster at 0x21c10143cd0>,\n",
       "  <__main__.roster at 0x21c10143dc0>,\n",
       "  <__main__.roster at 0x21c10143e20>,\n",
       "  <__main__.roster at 0x21c10143e80>,\n",
       "  <__main__.roster at 0x21c10143ee0>,\n",
       "  <__main__.roster at 0x21c10143f40>,\n",
       "  <__main__.roster at 0x21c10143fa0>,\n",
       "  <__main__.roster at 0x21c10143d00>],\n",
       " 'godsent': [<__main__.roster at 0x21c10143d90>,\n",
       "  <__main__.roster at 0x21c10172040>,\n",
       "  <__main__.roster at 0x21c101720d0>,\n",
       "  <__main__.roster at 0x21c0fdd54f0>,\n",
       "  <__main__.roster at 0x21c0fdd56a0>,\n",
       "  <__main__.roster at 0x21c0fdd5790>,\n",
       "  <__main__.roster at 0x21c0fdd57f0>,\n",
       "  <__main__.roster at 0x21c0fdd5850>,\n",
       "  <__main__.roster at 0x21c0fdd58b0>,\n",
       "  <__main__.roster at 0x21c0fdd5910>,\n",
       "  <__main__.roster at 0x21c0fdd5970>],\n",
       " 'sk': [<__main__.roster at 0x21c0fdd59d0>,\n",
       "  <__main__.roster at 0x21c0fdd5670>,\n",
       "  <__main__.roster at 0x21c0fdd5700>,\n",
       "  <__main__.roster at 0x21c1084dee0>,\n",
       "  <__main__.roster at 0x21c1084dd30>,\n",
       "  <__main__.roster at 0x21c1084d970>,\n",
       "  <__main__.roster at 0x21c1084d9a0>,\n",
       "  <__main__.roster at 0x21c1084d670>],\n",
       " 'endpoint': [<__main__.roster at 0x21c1084db80>,\n",
       "  <__main__.roster at 0x21c1084df40>,\n",
       "  <__main__.roster at 0x21c1084dd00>,\n",
       "  <__main__.roster at 0x21c0f4a4c40>,\n",
       "  <__main__.roster at 0x21c0f4a4b20>,\n",
       "  <__main__.roster at 0x21c0f4a4f10>,\n",
       "  <__main__.roster at 0x21c0f4a4be0>,\n",
       "  <__main__.roster at 0x21c0f4a4760>,\n",
       "  <__main__.roster at 0x21c0f4a4eb0>],\n",
       " 'havu': [<__main__.roster at 0x21c0f4a4e20>,\n",
       "  <__main__.roster at 0x21c0f4a4fd0>,\n",
       "  <__main__.roster at 0x21c0f4a48e0>,\n",
       "  <__main__.roster at 0x21c116b62e0>,\n",
       "  <__main__.roster at 0x21c116b6490>,\n",
       "  <__main__.roster at 0x21c116b6580>,\n",
       "  <__main__.roster at 0x21c116b65e0>,\n",
       "  <__main__.roster at 0x21c116b6640>,\n",
       "  <__main__.roster at 0x21c116b66a0>,\n",
       "  <__main__.roster at 0x21c116b6700>,\n",
       "  <__main__.roster at 0x21c116b6760>,\n",
       "  <__main__.roster at 0x21c116b67c0>,\n",
       "  <__main__.roster at 0x21c116b6820>,\n",
       "  <__main__.roster at 0x21c116b6880>],\n",
       " 'singularity': [<__main__.roster at 0x21c116b68e0>,\n",
       "  <__main__.roster at 0x21c116b6520>,\n",
       "  <__main__.roster at 0x21c116b6400>,\n",
       "  <__main__.roster at 0x21c112610d0>,\n",
       "  <__main__.roster at 0x21c11261280>,\n",
       "  <__main__.roster at 0x21c11261370>,\n",
       "  <__main__.roster at 0x21c112613d0>,\n",
       "  <__main__.roster at 0x21c11261430>,\n",
       "  <__main__.roster at 0x21c11261490>,\n",
       "  <__main__.roster at 0x21c112614f0>,\n",
       "  <__main__.roster at 0x21c11261550>,\n",
       "  <__main__.roster at 0x21c112615b0>,\n",
       "  <__main__.roster at 0x21c11261610>],\n",
       " 'virtuspro': [<__main__.roster at 0x21c113eefd0>,\n",
       "  <__main__.roster at 0x21c113eee20>,\n",
       "  <__main__.roster at 0x21c113eefa0>,\n",
       "  <__main__.roster at 0x21c11261190>,\n",
       "  <__main__.roster at 0x21c113eef40>,\n",
       "  <__main__.roster at 0x21c113eee50>,\n",
       "  <__main__.roster at 0x21c11261250>,\n",
       "  <__main__.roster at 0x21c113e5040>,\n",
       "  <__main__.roster at 0x21c113e5250>,\n",
       "  <__main__.roster at 0x21c113e52b0>,\n",
       "  <__main__.roster at 0x21c113e5310>,\n",
       "  <__main__.roster at 0x21c113e5370>,\n",
       "  <__main__.roster at 0x21c113e53d0>],\n",
       " 'optic': [<__main__.roster at 0x21c113e5430>,\n",
       "  <__main__.roster at 0x21c113e50a0>,\n",
       "  <__main__.roster at 0x21c113e5100>,\n",
       "  <__main__.roster at 0x21c109d6be0>,\n",
       "  <__main__.roster at 0x21c109d6d90>,\n",
       "  <__main__.roster at 0x21c109d6e80>,\n",
       "  <__main__.roster at 0x21c109d6ee0>,\n",
       "  <__main__.roster at 0x21c109d6f40>,\n",
       "  <__main__.roster at 0x21c109d6fa0>,\n",
       "  <__main__.roster at 0x21c109d6dc0>,\n",
       "  <__main__.roster at 0x21c109d6e20>,\n",
       "  <__main__.roster at 0x21c109d6ca0>,\n",
       "  <__main__.roster at 0x21c109d6d60>],\n",
       " 'envy': [<__main__.roster at 0x21c109ff070>,\n",
       "  <__main__.roster at 0x21c109ff0d0>,\n",
       "  <__main__.roster at 0x21c109ff1f0>,\n",
       "  <__main__.roster at 0x21c109ff040>,\n",
       "  <__main__.roster at 0x21c0f8c1310>,\n",
       "  <__main__.roster at 0x21c10fc4eb0>,\n",
       "  <__main__.roster at 0x21c10fc4f10>,\n",
       "  <__main__.roster at 0x21c10fc4d30>,\n",
       "  <__main__.roster at 0x21c10fc4df0>,\n",
       "  <__main__.roster at 0x21c10fc4a30>,\n",
       "  <__main__.roster at 0x21c10fc4790>,\n",
       "  <__main__.roster at 0x21c10fc46d0>],\n",
       " 'heroic': [<__main__.roster at 0x21c10fc4670>,\n",
       "  <__main__.roster at 0x21c10fc4d90>,\n",
       "  <__main__.roster at 0x21c10fc49d0>,\n",
       "  <__main__.roster at 0x21c1164e3a0>,\n",
       "  <__main__.roster at 0x21c1164e0d0>,\n",
       "  <__main__.roster at 0x21c1164e640>,\n",
       "  <__main__.roster at 0x21c1164e580>,\n",
       "  <__main__.roster at 0x21c1164e7c0>,\n",
       "  <__main__.roster at 0x21c1164e070>,\n",
       "  <__main__.roster at 0x21c1164e2b0>,\n",
       "  <__main__.roster at 0x21c1164e610>,\n",
       "  <__main__.roster at 0x21c1164e4c0>,\n",
       "  <__main__.roster at 0x21c1022ff10>,\n",
       "  <__main__.roster at 0x21c1022f640>,\n",
       "  <__main__.roster at 0x21c1022f160>,\n",
       "  <__main__.roster at 0x21c1022f880>],\n",
       " 'epsilon': [<__main__.roster at 0x21c1022f3a0>,\n",
       "  <__main__.roster at 0x21c1022f7f0>,\n",
       "  <__main__.roster at 0x21c1022faf0>,\n",
       "  <__main__.roster at 0x21c10b702e0>,\n",
       "  <__main__.roster at 0x21c10b70490>,\n",
       "  <__main__.roster at 0x21c10b70580>,\n",
       "  <__main__.roster at 0x21c10b705e0>,\n",
       "  <__main__.roster at 0x21c10b70640>,\n",
       "  <__main__.roster at 0x21c10b706a0>,\n",
       "  <__main__.roster at 0x21c10b70700>,\n",
       "  <__main__.roster at 0x21c10b70760>,\n",
       "  <__main__.roster at 0x21c10b707c0>,\n",
       "  <__main__.roster at 0x21c10b70820>],\n",
       " 'skade': [<__main__.roster at 0x21c10b70880>,\n",
       "  <__main__.roster at 0x21c10b70460>,\n",
       "  <__main__.roster at 0x21c10b703a0>,\n",
       "  <__main__.roster at 0x21c10c64460>,\n",
       "  <__main__.roster at 0x21c10c64610>,\n",
       "  <__main__.roster at 0x21c10c64700>],\n",
       " 'nemiga': [<__main__.roster at 0x21c10c64760>,\n",
       "  <__main__.roster at 0x21c10c646a0>,\n",
       "  <__main__.roster at 0x21c10c646d0>,\n",
       "  <__main__.roster at 0x21c10e87070>,\n",
       "  <__main__.roster at 0x21c10e87220>,\n",
       "  <__main__.roster at 0x21c10e87310>,\n",
       "  <__main__.roster at 0x21c10e87370>,\n",
       "  <__main__.roster at 0x21c10e873d0>,\n",
       "  <__main__.roster at 0x21c10e87430>,\n",
       "  <__main__.roster at 0x21c10e87490>,\n",
       "  <__main__.roster at 0x21c10e874f0>,\n",
       "  <__main__.roster at 0x21c10e87550>,\n",
       "  <__main__.roster at 0x21c10e875b0>],\n",
       " 'movistar-riders': [<__main__.roster at 0x21c10e87610>,\n",
       "  <__main__.roster at 0x21c10e871f0>,\n",
       "  <__main__.roster at 0x21c10e87130>,\n",
       "  <__main__.roster at 0x21c10d6fa90>,\n",
       "  <__main__.roster at 0x21c10d6fc40>,\n",
       "  <__main__.roster at 0x21c10d6fd30>,\n",
       "  <__main__.roster at 0x21c10d6fd90>,\n",
       "  <__main__.roster at 0x21c10d6fdf0>,\n",
       "  <__main__.roster at 0x21c10d6fe50>,\n",
       "  <__main__.roster at 0x21c10d6feb0>,\n",
       "  <__main__.roster at 0x21c10d6ff10>],\n",
       " 'spirit': [<__main__.roster at 0x21c10d6ff70>,\n",
       "  <__main__.roster at 0x21c10d6fc10>,\n",
       "  <__main__.roster at 0x21c10d6fca0>,\n",
       "  <__main__.roster at 0x21c1148f3d0>,\n",
       "  <__main__.roster at 0x21c1148f880>,\n",
       "  <__main__.roster at 0x21c1148f310>,\n",
       "  <__main__.roster at 0x21c1148f580>,\n",
       "  <__main__.roster at 0x21c1148f220>,\n",
       "  <__main__.roster at 0x21c1148f610>],\n",
       " 'nrg': [<__main__.roster at 0x21c114fcaf0>,\n",
       "  <__main__.roster at 0x21c114fc940>,\n",
       "  <__main__.roster at 0x21c114fc670>,\n",
       "  <__main__.roster at 0x21c116ff4c0>,\n",
       "  <__main__.roster at 0x21c116ff2b0>,\n",
       "  <__main__.roster at 0x21c116ff3d0>,\n",
       "  <__main__.roster at 0x21c116ffb50>,\n",
       "  <__main__.roster at 0x21c116ff9d0>,\n",
       "  <__main__.roster at 0x21c116ffa60>],\n",
       " 'isurus': [<__main__.roster at 0x21c116ffbb0>,\n",
       "  <__main__.roster at 0x21c116ff820>,\n",
       "  <__main__.roster at 0x21c116ff8e0>,\n",
       "  <__main__.roster at 0x21c1136b6d0>,\n",
       "  <__main__.roster at 0x21c1136b880>,\n",
       "  <__main__.roster at 0x21c1136b970>,\n",
       "  <__main__.roster at 0x21c1136b9d0>,\n",
       "  <__main__.roster at 0x21c1136ba30>,\n",
       "  <__main__.roster at 0x21c1136ba90>,\n",
       "  <__main__.roster at 0x21c1136baf0>,\n",
       "  <__main__.roster at 0x21c1136bb50>,\n",
       "  <__main__.roster at 0x21c1136bbb0>,\n",
       "  <__main__.roster at 0x21c1136bc10>],\n",
       " 'penta': [<__main__.roster at 0x21c1136bc70>,\n",
       "  <__main__.roster at 0x21c1136b850>,\n",
       "  <__main__.roster at 0x21c1136b790>,\n",
       "  <__main__.roster at 0x21c101c3be0>,\n",
       "  <__main__.roster at 0x21c101c3d90>,\n",
       "  <__main__.roster at 0x21c101c3e80>,\n",
       "  <__main__.roster at 0x21c101c3ee0>,\n",
       "  <__main__.roster at 0x21c101c3f40>],\n",
       " 'ago': [<__main__.roster at 0x21c101c3fa0>,\n",
       "  <__main__.roster at 0x21c101c3e20>,\n",
       "  <__main__.roster at 0x21c101c3d00>,\n",
       "  <__main__.roster at 0x21c11837460>,\n",
       "  <__main__.roster at 0x21c11837610>,\n",
       "  <__main__.roster at 0x21c11837700>,\n",
       "  <__main__.roster at 0x21c11837760>,\n",
       "  <__main__.roster at 0x21c118377c0>,\n",
       "  <__main__.roster at 0x21c11837820>,\n",
       "  <__main__.roster at 0x21c11837880>,\n",
       "  <__main__.roster at 0x21c118378e0>],\n",
       " 'ldlc': [<__main__.roster at 0x21c11837940>,\n",
       "  <__main__.roster at 0x21c118375e0>,\n",
       "  <__main__.roster at 0x21c11837670>,\n",
       "  <__main__.roster at 0x21c115b44f0>,\n",
       "  <__main__.roster at 0x21c115b46a0>,\n",
       "  <__main__.roster at 0x21c115b4790>,\n",
       "  <__main__.roster at 0x21c115b47f0>,\n",
       "  <__main__.roster at 0x21c115b4850>,\n",
       "  <__main__.roster at 0x21c115b48b0>,\n",
       "  <__main__.roster at 0x21c115b4910>,\n",
       "  <__main__.roster at 0x21c115b4970>,\n",
       "  <__main__.roster at 0x21c115b49d0>,\n",
       "  <__main__.roster at 0x21c115b4a30>,\n",
       "  <__main__.roster at 0x21c115b4a90>,\n",
       "  <__main__.roster at 0x21c115b4af0>],\n",
       " 'gambit': [<__main__.roster at 0x21c115b4b50>,\n",
       "  <__main__.roster at 0x21c1127c2b0>,\n",
       "  <__main__.roster at 0x21c115b4700>,\n",
       "  <__main__.roster at 0x21c115b46d0>,\n",
       "  <__main__.roster at 0x21c1127c220>,\n",
       "  <__main__.roster at 0x21c115b44c0>,\n",
       "  <__main__.roster at 0x21c1127c760>,\n",
       "  <__main__.roster at 0x21c1127c460>],\n",
       " 'nexus': [<__main__.roster at 0x21c10ac18b0>,\n",
       "  <__main__.roster at 0x21c10ac1250>,\n",
       "  <__main__.roster at 0x21c10ac1220>,\n",
       "  <__main__.roster at 0x21c115b5a90>,\n",
       "  <__main__.roster at 0x21c115b5dc0>,\n",
       "  <__main__.roster at 0x21c115b56d0>,\n",
       "  <__main__.roster at 0x21c115b50d0>,\n",
       "  <__main__.roster at 0x21c115b5df0>,\n",
       "  <__main__.roster at 0x21c115b54c0>,\n",
       "  <__main__.roster at 0x21c115b53d0>,\n",
       "  <__main__.roster at 0x21c115b5f70>,\n",
       "  <__main__.roster at 0x21c115b5070>,\n",
       "  <__main__.roster at 0x21c115b5730>,\n",
       "  <__main__.roster at 0x21c115b5220>,\n",
       "  <__main__.roster at 0x21c115b5760>,\n",
       "  <__main__.roster at 0x21c115b57c0>,\n",
       "  <__main__.roster at 0x21c115b51c0>],\n",
       " 'avangar': [<__main__.roster at 0x21c115b5370>,\n",
       "  <__main__.roster at 0x21c115b5a60>,\n",
       "  <__main__.roster at 0x21c115b5490>,\n",
       "  <__main__.roster at 0x21c1139c7f0>,\n",
       "  <__main__.roster at 0x21c1139c9a0>,\n",
       "  <__main__.roster at 0x21c1139ca90>,\n",
       "  <__main__.roster at 0x21c1139caf0>,\n",
       "  <__main__.roster at 0x21c1139cb50>],\n",
       " 'sj': [<__main__.roster at 0x21c1139cbb0>,\n",
       "  <__main__.roster at 0x21c1139ca30>,\n",
       "  <__main__.roster at 0x21c1139c910>,\n",
       "  <__main__.roster at 0x21c1115aca0>,\n",
       "  <__main__.roster at 0x21c1115ae50>,\n",
       "  <__main__.roster at 0x21c1115af40>,\n",
       "  <__main__.roster at 0x21c1115afa0>,\n",
       "  <__main__.roster at 0x21c1115ae80>,\n",
       "  <__main__.roster at 0x21c1115aee0>],\n",
       " 'saw': [<__main__.roster at 0x21c1115ae20>,\n",
       "  <__main__.roster at 0x21c1117e0d0>,\n",
       "  <__main__.roster at 0x21c1117e130>],\n",
       " 'copenhagen-flames': [<__main__.roster at 0x21c10d47910>,\n",
       "  <__main__.roster at 0x21c10d47a90>,\n",
       "  <__main__.roster at 0x21c10d478e0>,\n",
       "  <__main__.roster at 0x21c10cd5310>,\n",
       "  <__main__.roster at 0x21c10cd54c0>,\n",
       "  <__main__.roster at 0x21c10cd55b0>,\n",
       "  <__main__.roster at 0x21c10cd5610>,\n",
       "  <__main__.roster at 0x21c10cd5670>,\n",
       "  <__main__.roster at 0x21c10cd56d0>,\n",
       "  <__main__.roster at 0x21c10cd5730>,\n",
       "  <__main__.roster at 0x21c10cd5790>,\n",
       "  <__main__.roster at 0x21c10cd57f0>,\n",
       "  <__main__.roster at 0x21c10cd5850>],\n",
       " 'tricked': [<__main__.roster at 0x21c10cd58b0>,\n",
       "  <__main__.roster at 0x21c10cd5490>,\n",
       "  <__main__.roster at 0x21c10cd53d0>,\n",
       "  <__main__.roster at 0x21c10391a60>,\n",
       "  <__main__.roster at 0x21c10391580>,\n",
       "  <__main__.roster at 0x21c10391b80>,\n",
       "  <__main__.roster at 0x21c10391940>,\n",
       "  <__main__.roster at 0x21c10391760>,\n",
       "  <__main__.roster at 0x21c10391d90>,\n",
       "  <__main__.roster at 0x21c10391790>,\n",
       "  <__main__.roster at 0x21c10391640>,\n",
       "  <__main__.roster at 0x21c10391ac0>,\n",
       "  <__main__.roster at 0x21c10391700>,\n",
       "  <__main__.roster at 0x21c10391a90>,\n",
       "  <__main__.roster at 0x21c10391dc0>,\n",
       "  <__main__.roster at 0x21c10391af0>,\n",
       "  <__main__.roster at 0x21c103919d0>,\n",
       "  <__main__.roster at 0x21c10391c70>,\n",
       "  <__main__.roster at 0x21c10392580>,\n",
       "  <__main__.roster at 0x21c10392520>,\n",
       "  <__main__.roster at 0x21c10392250>,\n",
       "  <__main__.roster at 0x21c10392190>,\n",
       "  <__main__.roster at 0x21c103925e0>],\n",
       " 'pact': [<__main__.roster at 0x21c10392610>,\n",
       "  <__main__.roster at 0x21c10392670>,\n",
       "  <__main__.roster at 0x21c10392280>,\n",
       "  <__main__.roster at 0x21c112b7790>,\n",
       "  <__main__.roster at 0x21c112b7c40>,\n",
       "  <__main__.roster at 0x21c112b7550>,\n",
       "  <__main__.roster at 0x21c112b75e0>,\n",
       "  <__main__.roster at 0x21c112b7c70>,\n",
       "  <__main__.roster at 0x21c112b7df0>,\n",
       "  <__main__.roster at 0x21c112b7f70>,\n",
       "  <__main__.roster at 0x21c112b7ca0>,\n",
       "  <__main__.roster at 0x21c112b78e0>],\n",
       " 'alternate-attax': [<__main__.roster at 0x21c112b7a00>,\n",
       "  <__main__.roster at 0x21c112b7610>,\n",
       "  <__main__.roster at 0x21c10dfb970>,\n",
       "  <__main__.roster at 0x21c10aa55b0>,\n",
       "  <__main__.roster at 0x21c10aa5760>,\n",
       "  <__main__.roster at 0x21c10aa5850>,\n",
       "  <__main__.roster at 0x21c10aa58b0>,\n",
       "  <__main__.roster at 0x21c10aa5910>,\n",
       "  <__main__.roster at 0x21c10aa5970>,\n",
       "  <__main__.roster at 0x21c10aa59d0>,\n",
       "  <__main__.roster at 0x21c10aa5a30>,\n",
       "  <__main__.roster at 0x21c10aa5a90>,\n",
       "  <__main__.roster at 0x21c10aa5af0>,\n",
       "  <__main__.roster at 0x21c10aa5b50>,\n",
       "  <__main__.roster at 0x21c10aa5bb0>,\n",
       "  <__main__.roster at 0x21c10aa5c10>,\n",
       "  <__main__.roster at 0x21c10aa5c70>,\n",
       "  <__main__.roster at 0x21c10aa5cd0>],\n",
       " 'izako-boars': [<__main__.roster at 0x21c10aa5d30>,\n",
       "  <__main__.roster at 0x21c11701f10>,\n",
       "  <__main__.roster at 0x21c10aa5700>,\n",
       "  <__main__.roster at 0x21c10aa5820>,\n",
       "  <__main__.roster at 0x21c117340d0>,\n",
       "  <__main__.roster at 0x21c11734040>,\n",
       "  <__main__.roster at 0x21c11734280>,\n",
       "  <__main__.roster at 0x21c117342e0>,\n",
       "  <__main__.roster at 0x21c11734340>]}"
      ]
     },
     "execution_count": 45,
     "metadata": {},
     "output_type": "execute_result"
    }
   ],
   "source": [
    "rosters"
   ]
  },
  {
   "cell_type": "markdown",
   "id": "45d0aaa6",
   "metadata": {},
   "source": [
    "Getting final stats for all time"
   ]
  },
  {
   "cell_type": "code",
   "execution_count": 46,
   "id": "aa845ff9",
   "metadata": {},
   "outputs": [],
   "source": [
    "def str_to_date(string):\n",
    "    \n",
    "    day, month, year = map(int, string.split(\"/\"))\n",
    "    \n",
    "    year += 2000\n",
    "    \n",
    "    return date(year, month, day)"
   ]
  },
  {
   "cell_type": "code",
   "execution_count": 47,
   "id": "05228849",
   "metadata": {},
   "outputs": [],
   "source": [
    "def get_stats_from_table(table, map_title):\n",
    "    \n",
    "    stats = []\n",
    "    columns = {0 : \"date\", \n",
    "           1 : \"opponent\", \n",
    "           2 : \"event\", \n",
    "           3 : \"result\"}\n",
    "    \n",
    "    for i, row in enumerate(table.findAll(\"tr\")):\n",
    "        \n",
    "            if i == 0: continue\n",
    "                \n",
    "            row_dict = dict()\n",
    "            row_dict[\"team_1\"] = team_name\n",
    "            \n",
    "            for j, elem in enumerate(row.findAll(\"td\")):\n",
    "                \n",
    "                if columns[j] == \"result\":\n",
    "                    \n",
    "                    score_1 = int(elem.text.split()[0])\n",
    "                    score_2 = int(elem.text.split()[-1])\n",
    "                    \n",
    "                    row_dict[\"team_1_score\"] = score_1\n",
    "                    row_dict[\"team_2_score\"] = score_2\n",
    "                    \n",
    "                elif columns[j] == \"opponent\": row_dict[\"team_2\"] = correct_format(elem.text)\n",
    "                   \n",
    "                elif columns[j] == \"date\": row_dict[\"date\"] = str_to_date(elem.text)\n",
    "                else: row_dict[columns[j]] = elem.text\n",
    "                    \n",
    "                row_dict[\"map\"] = map_title\n",
    "                \n",
    "            stats.append(row_dict)\n",
    "            \n",
    "    return stats"
   ]
  },
  {
   "cell_type": "code",
   "execution_count": 51,
   "id": "208a268d",
   "metadata": {},
   "outputs": [
    {
     "name": "stderr",
     "output_type": "stream",
     "text": [
      "\r",
      "  0%|                                                                                           | 0/62 [00:00<?, ?it/s]"
     ]
    },
    {
     "name": "stdout",
     "output_type": "stream",
     "text": [
      "https://www.hltv.org/stats/teams//map/47/4863/tyloo\n",
      "https://www.hltv.org/stats/teams//map/29/4863/tyloo\n",
      "https://www.hltv.org/stats/teams//map/39/4863/tyloo\n",
      "https://www.hltv.org/stats/teams//map/31/4863/tyloo\n",
      "https://www.hltv.org/stats/teams//map/33/4863/tyloo\n",
      "https://www.hltv.org/stats/teams//map/32/4863/tyloo\n",
      "https://www.hltv.org/stats/teams//map/34/4863/tyloo\n",
      "https://www.hltv.org/stats/teams//map/40/4863/tyloo\n",
      "https://www.hltv.org/stats/teams//map/30/4863/tyloo\n",
      "https://www.hltv.org/stats/teams//map/35/4863/tyloo\n",
      "https://www.hltv.org/stats/teams//map/46/4863/tyloo\n"
     ]
    },
    {
     "name": "stderr",
     "output_type": "stream",
     "text": [
      "\r",
      "  2%|█▎                                                                                 | 1/62 [00:08<08:42,  8.56s/it]"
     ]
    },
    {
     "name": "stdout",
     "output_type": "stream",
     "text": [
      "https://www.hltv.org/stats/teams//map/47/6211/renegades\n",
      "https://www.hltv.org/stats/teams//map/29/6211/renegades\n",
      "https://www.hltv.org/stats/teams//map/39/6211/renegades\n",
      "https://www.hltv.org/stats/teams//map/31/6211/renegades\n",
      "https://www.hltv.org/stats/teams//map/33/6211/renegades\n",
      "https://www.hltv.org/stats/teams//map/32/6211/renegades\n",
      "https://www.hltv.org/stats/teams//map/34/6211/renegades\n",
      "https://www.hltv.org/stats/teams//map/40/6211/renegades\n",
      "https://www.hltv.org/stats/teams//map/30/6211/renegades\n",
      "https://www.hltv.org/stats/teams//map/35/6211/renegades\n",
      "https://www.hltv.org/stats/teams//map/46/6211/renegades\n"
     ]
    },
    {
     "name": "stderr",
     "output_type": "stream",
     "text": [
      "\r",
      "  3%|██▋                                                                                | 2/62 [00:16<08:07,  8.12s/it]"
     ]
    },
    {
     "name": "stdout",
     "output_type": "stream",
     "text": [
      "https://www.hltv.org/stats/teams//map/47/8668/order\n",
      "https://www.hltv.org/stats/teams//map/29/8668/order\n",
      "https://www.hltv.org/stats/teams//map/39/8668/order\n",
      "https://www.hltv.org/stats/teams//map/31/8668/order\n",
      "https://www.hltv.org/stats/teams//map/33/8668/order\n",
      "https://www.hltv.org/stats/teams//map/32/8668/order\n",
      "https://www.hltv.org/stats/teams//map/34/8668/order\n",
      "https://www.hltv.org/stats/teams//map/40/8668/order\n",
      "https://www.hltv.org/stats/teams//map/30/8668/order\n",
      "https://www.hltv.org/stats/teams//map/35/8668/order\n",
      "https://www.hltv.org/stats/teams//map/46/8668/order\n"
     ]
    },
    {
     "name": "stderr",
     "output_type": "stream",
     "text": [
      "\r",
      "  5%|████                                                                               | 3/62 [00:24<07:53,  8.02s/it]"
     ]
    },
    {
     "name": "stdout",
     "output_type": "stream",
     "text": [
      "https://www.hltv.org/stats/teams//map/47/7606/vici\n",
      "https://www.hltv.org/stats/teams//map/29/7606/vici\n",
      "https://www.hltv.org/stats/teams//map/39/7606/vici\n",
      "https://www.hltv.org/stats/teams//map/31/7606/vici\n",
      "https://www.hltv.org/stats/teams//map/33/7606/vici\n",
      "https://www.hltv.org/stats/teams//map/32/7606/vici\n",
      "https://www.hltv.org/stats/teams//map/34/7606/vici\n",
      "https://www.hltv.org/stats/teams//map/40/7606/vici\n",
      "https://www.hltv.org/stats/teams//map/30/7606/vici\n",
      "https://www.hltv.org/stats/teams//map/35/7606/vici\n",
      "https://www.hltv.org/stats/teams//map/46/7606/vici\n"
     ]
    },
    {
     "name": "stderr",
     "output_type": "stream",
     "text": [
      "\r",
      "  6%|█████▎                                                                             | 4/62 [00:31<07:27,  7.72s/it]"
     ]
    },
    {
     "name": "stdout",
     "output_type": "stream",
     "text": [
      "https://www.hltv.org/stats/teams//map/47/9565/vitality\n",
      "https://www.hltv.org/stats/teams//map/29/9565/vitality\n",
      "https://www.hltv.org/stats/teams//map/39/9565/vitality\n",
      "https://www.hltv.org/stats/teams//map/31/9565/vitality\n",
      "https://www.hltv.org/stats/teams//map/33/9565/vitality\n",
      "https://www.hltv.org/stats/teams//map/32/9565/vitality\n",
      "https://www.hltv.org/stats/teams//map/34/9565/vitality\n",
      "https://www.hltv.org/stats/teams//map/40/9565/vitality\n",
      "https://www.hltv.org/stats/teams//map/30/9565/vitality\n",
      "https://www.hltv.org/stats/teams//map/35/9565/vitality\n",
      "https://www.hltv.org/stats/teams//map/46/9565/vitality\n"
     ]
    },
    {
     "name": "stderr",
     "output_type": "stream",
     "text": [
      "\r",
      "  8%|██████▋                                                                            | 5/62 [00:38<07:06,  7.48s/it]"
     ]
    },
    {
     "name": "stdout",
     "output_type": "stream",
     "text": [
      "https://www.hltv.org/stats/teams//map/47/5929/space-soldiers\n",
      "https://www.hltv.org/stats/teams//map/29/5929/space-soldiers\n",
      "https://www.hltv.org/stats/teams//map/39/5929/space-soldiers\n",
      "https://www.hltv.org/stats/teams//map/31/5929/space-soldiers\n",
      "https://www.hltv.org/stats/teams//map/33/5929/space-soldiers\n",
      "https://www.hltv.org/stats/teams//map/32/5929/space-soldiers\n",
      "https://www.hltv.org/stats/teams//map/34/5929/space-soldiers\n",
      "https://www.hltv.org/stats/teams//map/40/5929/space-soldiers\n",
      "https://www.hltv.org/stats/teams//map/30/5929/space-soldiers\n",
      "https://www.hltv.org/stats/teams//map/35/5929/space-soldiers\n",
      "https://www.hltv.org/stats/teams//map/46/5929/space-soldiers\n"
     ]
    },
    {
     "name": "stderr",
     "output_type": "stream",
     "text": [
      "\r",
      " 10%|████████                                                                           | 6/62 [00:45<06:49,  7.31s/it]"
     ]
    },
    {
     "name": "stdout",
     "output_type": "stream",
     "text": [
      "https://www.hltv.org/stats/teams//map/47/9215/mibr\n",
      "https://www.hltv.org/stats/teams//map/29/9215/mibr\n",
      "https://www.hltv.org/stats/teams//map/39/9215/mibr\n",
      "https://www.hltv.org/stats/teams//map/31/9215/mibr\n",
      "https://www.hltv.org/stats/teams//map/33/9215/mibr\n",
      "https://www.hltv.org/stats/teams//map/32/9215/mibr\n",
      "https://www.hltv.org/stats/teams//map/34/9215/mibr\n",
      "https://www.hltv.org/stats/teams//map/40/9215/mibr\n",
      "https://www.hltv.org/stats/teams//map/30/9215/mibr\n",
      "https://www.hltv.org/stats/teams//map/35/9215/mibr\n",
      "https://www.hltv.org/stats/teams//map/46/9215/mibr\n"
     ]
    },
    {
     "name": "stderr",
     "output_type": "stream",
     "text": [
      "\r",
      " 11%|█████████▎                                                                         | 7/62 [00:52<06:33,  7.15s/it]"
     ]
    },
    {
     "name": "stdout",
     "output_type": "stream",
     "text": [
      "https://www.hltv.org/stats/teams//map/47/8297/furia\n",
      "https://www.hltv.org/stats/teams//map/29/8297/furia\n",
      "https://www.hltv.org/stats/teams//map/39/8297/furia\n",
      "https://www.hltv.org/stats/teams//map/31/8297/furia\n",
      "https://www.hltv.org/stats/teams//map/33/8297/furia\n",
      "https://www.hltv.org/stats/teams//map/32/8297/furia\n",
      "https://www.hltv.org/stats/teams//map/34/8297/furia\n",
      "https://www.hltv.org/stats/teams//map/40/8297/furia\n",
      "https://www.hltv.org/stats/teams//map/30/8297/furia\n",
      "https://www.hltv.org/stats/teams//map/35/8297/furia\n",
      "https://www.hltv.org/stats/teams//map/46/8297/furia\n"
     ]
    },
    {
     "name": "stderr",
     "output_type": "stream",
     "text": [
      "\r",
      " 13%|██████████▋                                                                        | 8/62 [00:59<06:26,  7.16s/it]"
     ]
    },
    {
     "name": "stdout",
     "output_type": "stream",
     "text": [
      "https://www.hltv.org/stats/teams//map/47/10577/sinners\n",
      "https://www.hltv.org/stats/teams//map/29/10577/sinners\n",
      "https://www.hltv.org/stats/teams//map/39/10577/sinners\n",
      "https://www.hltv.org/stats/teams//map/31/10577/sinners\n",
      "https://www.hltv.org/stats/teams//map/33/10577/sinners\n",
      "https://www.hltv.org/stats/teams//map/32/10577/sinners\n",
      "https://www.hltv.org/stats/teams//map/34/10577/sinners\n",
      "https://www.hltv.org/stats/teams//map/40/10577/sinners\n",
      "https://www.hltv.org/stats/teams//map/30/10577/sinners\n",
      "https://www.hltv.org/stats/teams//map/35/10577/sinners\n",
      "https://www.hltv.org/stats/teams//map/46/10577/sinners\n"
     ]
    },
    {
     "name": "stderr",
     "output_type": "stream",
     "text": [
      "\r",
      " 15%|████████████                                                                       | 9/62 [01:06<06:08,  6.95s/it]"
     ]
    },
    {
     "name": "stdout",
     "output_type": "stream",
     "text": [
      "https://www.hltv.org/stats/teams//map/47/5973/liquid\n",
      "https://www.hltv.org/stats/teams//map/29/5973/liquid\n",
      "https://www.hltv.org/stats/teams//map/39/5973/liquid\n",
      "https://www.hltv.org/stats/teams//map/31/5973/liquid\n",
      "https://www.hltv.org/stats/teams//map/33/5973/liquid\n",
      "https://www.hltv.org/stats/teams//map/32/5973/liquid\n",
      "https://www.hltv.org/stats/teams//map/34/5973/liquid\n",
      "https://www.hltv.org/stats/teams//map/40/5973/liquid\n",
      "https://www.hltv.org/stats/teams//map/30/5973/liquid\n",
      "https://www.hltv.org/stats/teams//map/35/5973/liquid\n",
      "https://www.hltv.org/stats/teams//map/46/5973/liquid\n"
     ]
    },
    {
     "name": "stderr",
     "output_type": "stream",
     "text": [
      "\r",
      " 16%|█████████████▏                                                                    | 10/62 [01:14<06:25,  7.42s/it]"
     ]
    },
    {
     "name": "stdout",
     "output_type": "stream",
     "text": [
      "https://www.hltv.org/stats/teams//map/47/6667/faze\n",
      "https://www.hltv.org/stats/teams//map/29/6667/faze\n",
      "https://www.hltv.org/stats/teams//map/39/6667/faze\n",
      "https://www.hltv.org/stats/teams//map/31/6667/faze\n",
      "https://www.hltv.org/stats/teams//map/33/6667/faze\n",
      "https://www.hltv.org/stats/teams//map/32/6667/faze\n",
      "https://www.hltv.org/stats/teams//map/34/6667/faze\n",
      "https://www.hltv.org/stats/teams//map/40/6667/faze\n",
      "https://www.hltv.org/stats/teams//map/30/6667/faze\n",
      "https://www.hltv.org/stats/teams//map/35/6667/faze\n",
      "https://www.hltv.org/stats/teams//map/46/6667/faze\n"
     ]
    },
    {
     "name": "stderr",
     "output_type": "stream",
     "text": [
      "\r",
      " 18%|██████████████▌                                                                   | 11/62 [01:22<06:28,  7.61s/it]"
     ]
    },
    {
     "name": "stdout",
     "output_type": "stream",
     "text": [
      "https://www.hltv.org/stats/teams//map/47/6665/astralis\n",
      "https://www.hltv.org/stats/teams//map/29/6665/astralis\n",
      "https://www.hltv.org/stats/teams//map/39/6665/astralis\n",
      "https://www.hltv.org/stats/teams//map/31/6665/astralis\n",
      "https://www.hltv.org/stats/teams//map/33/6665/astralis\n",
      "https://www.hltv.org/stats/teams//map/32/6665/astralis\n",
      "https://www.hltv.org/stats/teams//map/34/6665/astralis\n",
      "https://www.hltv.org/stats/teams//map/40/6665/astralis\n",
      "https://www.hltv.org/stats/teams//map/30/6665/astralis\n",
      "https://www.hltv.org/stats/teams//map/35/6665/astralis\n",
      "https://www.hltv.org/stats/teams//map/46/6665/astralis\n"
     ]
    },
    {
     "name": "stderr",
     "output_type": "stream",
     "text": [
      "\r",
      " 19%|███████████████▊                                                                  | 12/62 [01:30<06:30,  7.80s/it]"
     ]
    },
    {
     "name": "stdout",
     "output_type": "stream",
     "text": [
      "https://www.hltv.org/stats/teams//map/47/5310/hellraisers\n",
      "https://www.hltv.org/stats/teams//map/29/5310/hellraisers\n",
      "https://www.hltv.org/stats/teams//map/39/5310/hellraisers\n",
      "https://www.hltv.org/stats/teams//map/31/5310/hellraisers\n",
      "https://www.hltv.org/stats/teams//map/33/5310/hellraisers\n",
      "https://www.hltv.org/stats/teams//map/32/5310/hellraisers\n",
      "https://www.hltv.org/stats/teams//map/34/5310/hellraisers\n",
      "https://www.hltv.org/stats/teams//map/40/5310/hellraisers\n",
      "https://www.hltv.org/stats/teams//map/30/5310/hellraisers\n",
      "https://www.hltv.org/stats/teams//map/35/5310/hellraisers\n",
      "https://www.hltv.org/stats/teams//map/46/5310/hellraisers\n"
     ]
    },
    {
     "name": "stderr",
     "output_type": "stream",
     "text": [
      "\r",
      " 21%|█████████████████▏                                                                | 13/62 [01:40<06:51,  8.40s/it]"
     ]
    },
    {
     "name": "stdout",
     "output_type": "stream",
     "text": [
      "https://www.hltv.org/stats/teams//map/47/7533/north\n",
      "https://www.hltv.org/stats/teams//map/29/7533/north\n",
      "https://www.hltv.org/stats/teams//map/39/7533/north\n",
      "https://www.hltv.org/stats/teams//map/31/7533/north\n",
      "https://www.hltv.org/stats/teams//map/33/7533/north\n",
      "https://www.hltv.org/stats/teams//map/32/7533/north\n",
      "https://www.hltv.org/stats/teams//map/34/7533/north\n",
      "https://www.hltv.org/stats/teams//map/40/7533/north\n",
      "https://www.hltv.org/stats/teams//map/30/7533/north\n",
      "https://www.hltv.org/stats/teams//map/35/7533/north\n",
      "https://www.hltv.org/stats/teams//map/46/7533/north\n"
     ]
    },
    {
     "name": "stderr",
     "output_type": "stream",
     "text": [
      "\r",
      " 23%|██████████████████▌                                                               | 14/62 [01:47<06:18,  7.88s/it]"
     ]
    },
    {
     "name": "stdout",
     "output_type": "stream",
     "text": [
      "https://www.hltv.org/stats/teams//map/47/7532/big\n",
      "https://www.hltv.org/stats/teams//map/29/7532/big\n",
      "https://www.hltv.org/stats/teams//map/39/7532/big\n",
      "https://www.hltv.org/stats/teams//map/31/7532/big\n",
      "https://www.hltv.org/stats/teams//map/33/7532/big\n",
      "https://www.hltv.org/stats/teams//map/32/7532/big\n",
      "https://www.hltv.org/stats/teams//map/34/7532/big\n",
      "https://www.hltv.org/stats/teams//map/40/7532/big\n",
      "https://www.hltv.org/stats/teams//map/30/7532/big\n",
      "https://www.hltv.org/stats/teams//map/35/7532/big\n",
      "https://www.hltv.org/stats/teams//map/46/7532/big\n"
     ]
    },
    {
     "name": "stderr",
     "output_type": "stream",
     "text": [
      "\r",
      " 24%|███████████████████▊                                                              | 15/62 [01:55<06:08,  7.83s/it]"
     ]
    },
    {
     "name": "stdout",
     "output_type": "stream",
     "text": [
      "https://www.hltv.org/stats/teams//map/47/4991/fnatic\n",
      "https://www.hltv.org/stats/teams//map/29/4991/fnatic\n",
      "https://www.hltv.org/stats/teams//map/39/4991/fnatic\n",
      "https://www.hltv.org/stats/teams//map/31/4991/fnatic\n",
      "https://www.hltv.org/stats/teams//map/33/4991/fnatic\n",
      "https://www.hltv.org/stats/teams//map/32/4991/fnatic\n",
      "https://www.hltv.org/stats/teams//map/34/4991/fnatic\n",
      "https://www.hltv.org/stats/teams//map/40/4991/fnatic\n",
      "https://www.hltv.org/stats/teams//map/30/4991/fnatic\n",
      "https://www.hltv.org/stats/teams//map/35/4991/fnatic\n",
      "https://www.hltv.org/stats/teams//map/46/4991/fnatic\n"
     ]
    },
    {
     "name": "stderr",
     "output_type": "stream",
     "text": [
      "\r",
      " 26%|█████████████████████▏                                                            | 16/62 [02:05<06:39,  8.67s/it]"
     ]
    },
    {
     "name": "stdout",
     "output_type": "stream",
     "text": [
      "https://www.hltv.org/stats/teams//map/47/4411/ninjas-in-pyjamas\n",
      "https://www.hltv.org/stats/teams//map/29/4411/ninjas-in-pyjamas\n",
      "https://www.hltv.org/stats/teams//map/39/4411/ninjas-in-pyjamas\n",
      "https://www.hltv.org/stats/teams//map/31/4411/ninjas-in-pyjamas\n",
      "https://www.hltv.org/stats/teams//map/33/4411/ninjas-in-pyjamas\n",
      "https://www.hltv.org/stats/teams//map/32/4411/ninjas-in-pyjamas\n",
      "https://www.hltv.org/stats/teams//map/34/4411/ninjas-in-pyjamas\n",
      "https://www.hltv.org/stats/teams//map/40/4411/ninjas-in-pyjamas\n",
      "https://www.hltv.org/stats/teams//map/30/4411/ninjas-in-pyjamas\n",
      "https://www.hltv.org/stats/teams//map/35/4411/ninjas-in-pyjamas\n",
      "https://www.hltv.org/stats/teams//map/46/4411/ninjas-in-pyjamas\n"
     ]
    },
    {
     "name": "stderr",
     "output_type": "stream",
     "text": [
      "\r",
      " 27%|██████████████████████▍                                                           | 17/62 [02:16<07:05,  9.45s/it]"
     ]
    },
    {
     "name": "stdout",
     "output_type": "stream",
     "text": [
      "https://www.hltv.org/stats/teams//map/47/4494/mouz\n",
      "https://www.hltv.org/stats/teams//map/29/4494/mouz\n",
      "https://www.hltv.org/stats/teams//map/39/4494/mouz\n",
      "https://www.hltv.org/stats/teams//map/31/4494/mouz\n",
      "https://www.hltv.org/stats/teams//map/33/4494/mouz\n",
      "https://www.hltv.org/stats/teams//map/32/4494/mouz\n",
      "https://www.hltv.org/stats/teams//map/34/4494/mouz\n",
      "https://www.hltv.org/stats/teams//map/40/4494/mouz\n",
      "https://www.hltv.org/stats/teams//map/30/4494/mouz\n",
      "https://www.hltv.org/stats/teams//map/35/4494/mouz\n",
      "https://www.hltv.org/stats/teams//map/46/4494/mouz\n"
     ]
    },
    {
     "name": "stderr",
     "output_type": "stream",
     "text": [
      "\r",
      " 29%|███████████████████████▊                                                          | 18/62 [02:29<07:41, 10.50s/it]"
     ]
    },
    {
     "name": "stdout",
     "output_type": "stream",
     "text": [
      "https://www.hltv.org/stats/teams//map/47/5995/g2\n",
      "https://www.hltv.org/stats/teams//map/29/5995/g2\n",
      "https://www.hltv.org/stats/teams//map/39/5995/g2\n",
      "https://www.hltv.org/stats/teams//map/31/5995/g2\n",
      "https://www.hltv.org/stats/teams//map/33/5995/g2\n",
      "https://www.hltv.org/stats/teams//map/32/5995/g2\n",
      "https://www.hltv.org/stats/teams//map/34/5995/g2\n",
      "https://www.hltv.org/stats/teams//map/40/5995/g2\n",
      "https://www.hltv.org/stats/teams//map/30/5995/g2\n",
      "https://www.hltv.org/stats/teams//map/35/5995/g2\n",
      "https://www.hltv.org/stats/teams//map/46/5995/g2\n"
     ]
    },
    {
     "name": "stderr",
     "output_type": "stream",
     "text": [
      "\r",
      " 31%|█████████████████████████▏                                                        | 19/62 [02:40<07:38, 10.66s/it]"
     ]
    },
    {
     "name": "stdout",
     "output_type": "stream",
     "text": [
      "https://www.hltv.org/stats/teams//map/47/5005/complexity\n",
      "https://www.hltv.org/stats/teams//map/29/5005/complexity\n",
      "https://www.hltv.org/stats/teams//map/39/5005/complexity\n",
      "https://www.hltv.org/stats/teams//map/31/5005/complexity\n",
      "https://www.hltv.org/stats/teams//map/33/5005/complexity\n",
      "https://www.hltv.org/stats/teams//map/32/5005/complexity\n",
      "https://www.hltv.org/stats/teams//map/34/5005/complexity\n",
      "https://www.hltv.org/stats/teams//map/40/5005/complexity\n",
      "https://www.hltv.org/stats/teams//map/30/5005/complexity\n",
      "https://www.hltv.org/stats/teams//map/35/5005/complexity\n",
      "https://www.hltv.org/stats/teams//map/46/5005/complexity\n"
     ]
    },
    {
     "name": "stderr",
     "output_type": "stream",
     "text": [
      "\r",
      " 32%|██████████████████████████▍                                                       | 20/62 [02:50<07:20, 10.48s/it]"
     ]
    },
    {
     "name": "stdout",
     "output_type": "stream",
     "text": [
      "https://www.hltv.org/stats/teams//map/47/8135/forze\n",
      "https://www.hltv.org/stats/teams//map/29/8135/forze\n",
      "https://www.hltv.org/stats/teams//map/39/8135/forze\n",
      "https://www.hltv.org/stats/teams//map/31/8135/forze\n",
      "https://www.hltv.org/stats/teams//map/33/8135/forze\n",
      "https://www.hltv.org/stats/teams//map/32/8135/forze\n",
      "https://www.hltv.org/stats/teams//map/34/8135/forze\n",
      "https://www.hltv.org/stats/teams//map/40/8135/forze\n",
      "https://www.hltv.org/stats/teams//map/30/8135/forze\n",
      "https://www.hltv.org/stats/teams//map/35/8135/forze\n",
      "https://www.hltv.org/stats/teams//map/46/8135/forze\n"
     ]
    },
    {
     "name": "stderr",
     "output_type": "stream",
     "text": [
      "\r",
      " 34%|███████████████████████████▊                                                      | 21/62 [03:04<07:53, 11.55s/it]"
     ]
    },
    {
     "name": "stdout",
     "output_type": "stream",
     "text": [
      "https://www.hltv.org/stats/teams//map/47/4773/pain\n",
      "https://www.hltv.org/stats/teams//map/29/4773/pain\n",
      "https://www.hltv.org/stats/teams//map/39/4773/pain\n",
      "https://www.hltv.org/stats/teams//map/31/4773/pain\n",
      "https://www.hltv.org/stats/teams//map/33/4773/pain\n",
      "https://www.hltv.org/stats/teams//map/32/4773/pain\n",
      "https://www.hltv.org/stats/teams//map/34/4773/pain\n",
      "https://www.hltv.org/stats/teams//map/40/4773/pain\n",
      "https://www.hltv.org/stats/teams//map/30/4773/pain\n",
      "https://www.hltv.org/stats/teams//map/35/4773/pain\n",
      "https://www.hltv.org/stats/teams//map/46/4773/pain\n"
     ]
    },
    {
     "name": "stderr",
     "output_type": "stream",
     "text": [
      "\r",
      " 35%|█████████████████████████████                                                     | 22/62 [03:13<07:04, 10.60s/it]"
     ]
    },
    {
     "name": "stdout",
     "output_type": "stream",
     "text": [
      "https://www.hltv.org/stats/teams//map/47/5422/dignitas\n",
      "https://www.hltv.org/stats/teams//map/29/5422/dignitas\n",
      "https://www.hltv.org/stats/teams//map/39/5422/dignitas\n",
      "https://www.hltv.org/stats/teams//map/31/5422/dignitas\n",
      "https://www.hltv.org/stats/teams//map/33/5422/dignitas\n",
      "https://www.hltv.org/stats/teams//map/32/5422/dignitas\n",
      "https://www.hltv.org/stats/teams//map/34/5422/dignitas\n",
      "https://www.hltv.org/stats/teams//map/40/5422/dignitas\n",
      "https://www.hltv.org/stats/teams//map/30/5422/dignitas\n",
      "https://www.hltv.org/stats/teams//map/35/5422/dignitas\n",
      "https://www.hltv.org/stats/teams//map/46/5422/dignitas\n"
     ]
    },
    {
     "name": "stderr",
     "output_type": "stream",
     "text": [
      "\r",
      " 37%|██████████████████████████████▍                                                   | 23/62 [03:22<06:35, 10.13s/it]"
     ]
    },
    {
     "name": "stdout",
     "output_type": "stream",
     "text": [
      "https://www.hltv.org/stats/teams//map/47/6134/kinguin\n",
      "https://www.hltv.org/stats/teams//map/29/6134/kinguin\n",
      "https://www.hltv.org/stats/teams//map/39/6134/kinguin\n",
      "https://www.hltv.org/stats/teams//map/31/6134/kinguin\n",
      "https://www.hltv.org/stats/teams//map/33/6134/kinguin\n",
      "https://www.hltv.org/stats/teams//map/32/6134/kinguin\n",
      "https://www.hltv.org/stats/teams//map/34/6134/kinguin\n",
      "https://www.hltv.org/stats/teams//map/40/6134/kinguin\n",
      "https://www.hltv.org/stats/teams//map/30/6134/kinguin\n",
      "https://www.hltv.org/stats/teams//map/35/6134/kinguin\n",
      "https://www.hltv.org/stats/teams//map/46/6134/kinguin\n"
     ]
    },
    {
     "name": "stderr",
     "output_type": "stream",
     "text": [
      "\r",
      " 39%|███████████████████████████████▋                                                  | 24/62 [03:30<05:57,  9.42s/it]"
     ]
    },
    {
     "name": "stdout",
     "output_type": "stream",
     "text": [
      "https://www.hltv.org/stats/teams//map/47/6290/luminosity\n",
      "https://www.hltv.org/stats/teams//map/29/6290/luminosity\n",
      "https://www.hltv.org/stats/teams//map/39/6290/luminosity\n",
      "https://www.hltv.org/stats/teams//map/31/6290/luminosity\n",
      "https://www.hltv.org/stats/teams//map/33/6290/luminosity\n",
      "https://www.hltv.org/stats/teams//map/32/6290/luminosity\n",
      "https://www.hltv.org/stats/teams//map/34/6290/luminosity\n",
      "https://www.hltv.org/stats/teams//map/40/6290/luminosity\n",
      "https://www.hltv.org/stats/teams//map/30/6290/luminosity\n",
      "https://www.hltv.org/stats/teams//map/35/6290/luminosity\n",
      "https://www.hltv.org/stats/teams//map/46/6290/luminosity\n"
     ]
    },
    {
     "name": "stderr",
     "output_type": "stream",
     "text": [
      "\r",
      " 40%|█████████████████████████████████                                                 | 25/62 [03:38<05:32,  8.99s/it]"
     ]
    },
    {
     "name": "stdout",
     "output_type": "stream",
     "text": [
      "https://www.hltv.org/stats/teams//map/47/5988/flipsid3\n",
      "https://www.hltv.org/stats/teams//map/29/5988/flipsid3\n",
      "https://www.hltv.org/stats/teams//map/39/5988/flipsid3\n",
      "https://www.hltv.org/stats/teams//map/31/5988/flipsid3\n",
      "https://www.hltv.org/stats/teams//map/33/5988/flipsid3\n",
      "https://www.hltv.org/stats/teams//map/32/5988/flipsid3\n",
      "https://www.hltv.org/stats/teams//map/34/5988/flipsid3\n",
      "https://www.hltv.org/stats/teams//map/40/5988/flipsid3\n",
      "https://www.hltv.org/stats/teams//map/30/5988/flipsid3\n",
      "https://www.hltv.org/stats/teams//map/35/5988/flipsid3\n",
      "https://www.hltv.org/stats/teams//map/46/5988/flipsid3\n"
     ]
    },
    {
     "name": "stderr",
     "output_type": "stream",
     "text": [
      "\r",
      " 42%|██████████████████████████████████▍                                               | 26/62 [03:48<05:42,  9.52s/it]"
     ]
    },
    {
     "name": "stdout",
     "output_type": "stream",
     "text": [
      "https://www.hltv.org/stats/teams//map/47/5752/cloud9\n",
      "https://www.hltv.org/stats/teams//map/29/5752/cloud9\n",
      "https://www.hltv.org/stats/teams//map/39/5752/cloud9\n",
      "https://www.hltv.org/stats/teams//map/31/5752/cloud9\n",
      "https://www.hltv.org/stats/teams//map/33/5752/cloud9\n",
      "https://www.hltv.org/stats/teams//map/32/5752/cloud9\n",
      "https://www.hltv.org/stats/teams//map/34/5752/cloud9\n",
      "https://www.hltv.org/stats/teams//map/40/5752/cloud9\n",
      "https://www.hltv.org/stats/teams//map/30/5752/cloud9\n",
      "https://www.hltv.org/stats/teams//map/35/5752/cloud9\n",
      "https://www.hltv.org/stats/teams//map/46/5752/cloud9\n"
     ]
    },
    {
     "name": "stderr",
     "output_type": "stream",
     "text": [
      "\r",
      " 44%|███████████████████████████████████▋                                              | 27/62 [03:57<05:28,  9.39s/it]"
     ]
    },
    {
     "name": "stdout",
     "output_type": "stream",
     "text": [
      "https://www.hltv.org/stats/teams//map/47/6947/teamone\n",
      "https://www.hltv.org/stats/teams//map/29/6947/teamone\n",
      "https://www.hltv.org/stats/teams//map/39/6947/teamone\n",
      "https://www.hltv.org/stats/teams//map/31/6947/teamone\n",
      "https://www.hltv.org/stats/teams//map/33/6947/teamone\n",
      "https://www.hltv.org/stats/teams//map/32/6947/teamone\n",
      "https://www.hltv.org/stats/teams//map/34/6947/teamone\n",
      "https://www.hltv.org/stats/teams//map/40/6947/teamone\n",
      "https://www.hltv.org/stats/teams//map/30/6947/teamone\n",
      "https://www.hltv.org/stats/teams//map/35/6947/teamone\n",
      "https://www.hltv.org/stats/teams//map/46/6947/teamone\n"
     ]
    },
    {
     "name": "stderr",
     "output_type": "stream",
     "text": [
      "\r",
      " 45%|█████████████████████████████████████                                             | 28/62 [04:06<05:12,  9.18s/it]"
     ]
    },
    {
     "name": "stdout",
     "output_type": "stream",
     "text": [
      "https://www.hltv.org/stats/teams//map/47/6010/chiefs\n",
      "https://www.hltv.org/stats/teams//map/29/6010/chiefs\n",
      "https://www.hltv.org/stats/teams//map/39/6010/chiefs\n",
      "https://www.hltv.org/stats/teams//map/31/6010/chiefs\n",
      "https://www.hltv.org/stats/teams//map/33/6010/chiefs\n",
      "https://www.hltv.org/stats/teams//map/32/6010/chiefs\n",
      "https://www.hltv.org/stats/teams//map/34/6010/chiefs\n",
      "https://www.hltv.org/stats/teams//map/40/6010/chiefs\n",
      "https://www.hltv.org/stats/teams//map/30/6010/chiefs\n",
      "https://www.hltv.org/stats/teams//map/35/6010/chiefs\n",
      "https://www.hltv.org/stats/teams//map/46/6010/chiefs\n"
     ]
    },
    {
     "name": "stderr",
     "output_type": "stream",
     "text": [
      "\r",
      " 47%|██████████████████████████████████████▎                                           | 29/62 [04:16<05:07,  9.33s/it]"
     ]
    },
    {
     "name": "stdout",
     "output_type": "stream",
     "text": [
      "https://www.hltv.org/stats/teams//map/47/9928/gamerlegion\n",
      "https://www.hltv.org/stats/teams//map/29/9928/gamerlegion\n",
      "https://www.hltv.org/stats/teams//map/39/9928/gamerlegion\n",
      "https://www.hltv.org/stats/teams//map/31/9928/gamerlegion\n",
      "https://www.hltv.org/stats/teams//map/33/9928/gamerlegion\n",
      "https://www.hltv.org/stats/teams//map/32/9928/gamerlegion\n",
      "https://www.hltv.org/stats/teams//map/34/9928/gamerlegion\n",
      "https://www.hltv.org/stats/teams//map/40/9928/gamerlegion\n",
      "https://www.hltv.org/stats/teams//map/30/9928/gamerlegion\n",
      "https://www.hltv.org/stats/teams//map/35/9928/gamerlegion\n",
      "https://www.hltv.org/stats/teams//map/46/9928/gamerlegion\n"
     ]
    },
    {
     "name": "stderr",
     "output_type": "stream",
     "text": [
      "\r",
      " 48%|███████████████████████████████████████▋                                          | 30/62 [04:25<04:56,  9.26s/it]"
     ]
    },
    {
     "name": "stdout",
     "output_type": "stream",
     "text": [
      "https://www.hltv.org/stats/teams//map/47/8637/sprout\n",
      "https://www.hltv.org/stats/teams//map/29/8637/sprout\n",
      "https://www.hltv.org/stats/teams//map/39/8637/sprout\n",
      "https://www.hltv.org/stats/teams//map/31/8637/sprout\n",
      "https://www.hltv.org/stats/teams//map/33/8637/sprout\n",
      "https://www.hltv.org/stats/teams//map/32/8637/sprout\n",
      "https://www.hltv.org/stats/teams//map/34/8637/sprout\n",
      "https://www.hltv.org/stats/teams//map/40/8637/sprout\n",
      "https://www.hltv.org/stats/teams//map/30/8637/sprout\n",
      "https://www.hltv.org/stats/teams//map/35/8637/sprout\n",
      "https://www.hltv.org/stats/teams//map/46/8637/sprout\n"
     ]
    },
    {
     "name": "stderr",
     "output_type": "stream",
     "text": [
      "\r",
      " 50%|█████████████████████████████████████████                                         | 31/62 [04:36<05:06,  9.90s/it]"
     ]
    },
    {
     "name": "stdout",
     "output_type": "stream",
     "text": [
      "https://www.hltv.org/stats/teams//map/47/4869/ence\n",
      "https://www.hltv.org/stats/teams//map/29/4869/ence\n",
      "https://www.hltv.org/stats/teams//map/39/4869/ence\n",
      "https://www.hltv.org/stats/teams//map/31/4869/ence\n",
      "https://www.hltv.org/stats/teams//map/33/4869/ence\n",
      "https://www.hltv.org/stats/teams//map/32/4869/ence\n",
      "https://www.hltv.org/stats/teams//map/34/4869/ence\n",
      "https://www.hltv.org/stats/teams//map/40/4869/ence\n",
      "https://www.hltv.org/stats/teams//map/30/4869/ence\n",
      "https://www.hltv.org/stats/teams//map/35/4869/ence\n",
      "https://www.hltv.org/stats/teams//map/46/4869/ence\n"
     ]
    },
    {
     "name": "stderr",
     "output_type": "stream",
     "text": [
      "\r",
      " 52%|██████████████████████████████████████████▎                                       | 32/62 [04:50<05:27, 10.92s/it]"
     ]
    },
    {
     "name": "stdout",
     "output_type": "stream",
     "text": [
      "https://www.hltv.org/stats/teams//map/47/4608/natus-vincere\n",
      "https://www.hltv.org/stats/teams//map/29/4608/natus-vincere\n",
      "https://www.hltv.org/stats/teams//map/39/4608/natus-vincere\n",
      "https://www.hltv.org/stats/teams//map/31/4608/natus-vincere\n",
      "https://www.hltv.org/stats/teams//map/33/4608/natus-vincere\n",
      "https://www.hltv.org/stats/teams//map/32/4608/natus-vincere\n",
      "https://www.hltv.org/stats/teams//map/34/4608/natus-vincere\n",
      "https://www.hltv.org/stats/teams//map/40/4608/natus-vincere\n",
      "https://www.hltv.org/stats/teams//map/30/4608/natus-vincere\n",
      "https://www.hltv.org/stats/teams//map/35/4608/natus-vincere\n",
      "https://www.hltv.org/stats/teams//map/46/4608/natus-vincere\n"
     ]
    },
    {
     "name": "stderr",
     "output_type": "stream",
     "text": [
      "\r",
      " 53%|███████████████████████████████████████████▋                                      | 33/62 [05:05<05:53, 12.19s/it]"
     ]
    },
    {
     "name": "stdout",
     "output_type": "stream",
     "text": [
      "https://www.hltv.org/stats/teams//map/47/6902/godsent\n",
      "https://www.hltv.org/stats/teams//map/29/6902/godsent\n",
      "https://www.hltv.org/stats/teams//map/39/6902/godsent\n",
      "https://www.hltv.org/stats/teams//map/31/6902/godsent\n",
      "https://www.hltv.org/stats/teams//map/33/6902/godsent\n",
      "https://www.hltv.org/stats/teams//map/32/6902/godsent\n",
      "https://www.hltv.org/stats/teams//map/34/6902/godsent\n",
      "https://www.hltv.org/stats/teams//map/40/6902/godsent\n",
      "https://www.hltv.org/stats/teams//map/30/6902/godsent\n",
      "https://www.hltv.org/stats/teams//map/35/6902/godsent\n",
      "https://www.hltv.org/stats/teams//map/46/6902/godsent\n"
     ]
    },
    {
     "name": "stderr",
     "output_type": "stream",
     "text": [
      "\r",
      " 55%|████████████████████████████████████████████▉                                     | 34/62 [05:13<05:11, 11.11s/it]"
     ]
    },
    {
     "name": "stdout",
     "output_type": "stream",
     "text": [
      "https://www.hltv.org/stats/teams//map/47/6137/sk\n",
      "https://www.hltv.org/stats/teams//map/29/6137/sk\n",
      "https://www.hltv.org/stats/teams//map/39/6137/sk\n",
      "https://www.hltv.org/stats/teams//map/31/6137/sk\n",
      "https://www.hltv.org/stats/teams//map/33/6137/sk\n",
      "https://www.hltv.org/stats/teams//map/32/6137/sk\n",
      "https://www.hltv.org/stats/teams//map/34/6137/sk\n",
      "https://www.hltv.org/stats/teams//map/40/6137/sk\n",
      "https://www.hltv.org/stats/teams//map/30/6137/sk\n",
      "https://www.hltv.org/stats/teams//map/35/6137/sk\n",
      "https://www.hltv.org/stats/teams//map/46/6137/sk\n"
     ]
    },
    {
     "name": "stderr",
     "output_type": "stream",
     "text": [
      "\r",
      " 56%|██████████████████████████████████████████████▎                                   | 35/62 [05:22<04:36, 10.24s/it]"
     ]
    },
    {
     "name": "stdout",
     "output_type": "stream",
     "text": [
      "https://www.hltv.org/stats/teams//map/47/7234/endpoint\n",
      "https://www.hltv.org/stats/teams//map/29/7234/endpoint\n",
      "https://www.hltv.org/stats/teams//map/39/7234/endpoint\n",
      "https://www.hltv.org/stats/teams//map/31/7234/endpoint\n",
      "https://www.hltv.org/stats/teams//map/33/7234/endpoint\n",
      "https://www.hltv.org/stats/teams//map/32/7234/endpoint\n",
      "https://www.hltv.org/stats/teams//map/34/7234/endpoint\n",
      "https://www.hltv.org/stats/teams//map/40/7234/endpoint\n",
      "https://www.hltv.org/stats/teams//map/30/7234/endpoint\n",
      "https://www.hltv.org/stats/teams//map/35/7234/endpoint\n",
      "https://www.hltv.org/stats/teams//map/46/7234/endpoint\n"
     ]
    },
    {
     "name": "stderr",
     "output_type": "stream",
     "text": [
      "\r",
      " 58%|███████████████████████████████████████████████▌                                  | 36/62 [05:32<04:31, 10.43s/it]"
     ]
    },
    {
     "name": "stdout",
     "output_type": "stream",
     "text": [
      "https://www.hltv.org/stats/teams//map/47/7865/havu\n",
      "https://www.hltv.org/stats/teams//map/29/7865/havu\n",
      "https://www.hltv.org/stats/teams//map/39/7865/havu\n",
      "https://www.hltv.org/stats/teams//map/31/7865/havu\n",
      "https://www.hltv.org/stats/teams//map/33/7865/havu\n",
      "https://www.hltv.org/stats/teams//map/32/7865/havu\n",
      "https://www.hltv.org/stats/teams//map/34/7865/havu\n",
      "https://www.hltv.org/stats/teams//map/40/7865/havu\n",
      "https://www.hltv.org/stats/teams//map/30/7865/havu\n",
      "https://www.hltv.org/stats/teams//map/35/7865/havu\n",
      "https://www.hltv.org/stats/teams//map/46/7865/havu\n"
     ]
    },
    {
     "name": "stderr",
     "output_type": "stream",
     "text": [
      "\r",
      " 60%|████████████████████████████████████████████████▉                                 | 37/62 [05:43<04:24, 10.60s/it]"
     ]
    },
    {
     "name": "stdout",
     "output_type": "stream",
     "text": [
      "https://www.hltv.org/stats/teams//map/47/6978/singularity\n",
      "https://www.hltv.org/stats/teams//map/29/6978/singularity\n",
      "https://www.hltv.org/stats/teams//map/39/6978/singularity\n",
      "https://www.hltv.org/stats/teams//map/31/6978/singularity\n",
      "https://www.hltv.org/stats/teams//map/33/6978/singularity\n",
      "https://www.hltv.org/stats/teams//map/32/6978/singularity\n",
      "https://www.hltv.org/stats/teams//map/34/6978/singularity\n",
      "https://www.hltv.org/stats/teams//map/40/6978/singularity\n",
      "https://www.hltv.org/stats/teams//map/30/6978/singularity\n",
      "https://www.hltv.org/stats/teams//map/35/6978/singularity\n",
      "https://www.hltv.org/stats/teams//map/46/6978/singularity\n"
     ]
    },
    {
     "name": "stderr",
     "output_type": "stream",
     "text": [
      "\r",
      " 61%|██████████████████████████████████████████████████▎                               | 38/62 [05:52<03:58,  9.92s/it]"
     ]
    },
    {
     "name": "stdout",
     "output_type": "stream",
     "text": [
      "https://www.hltv.org/stats/teams//map/47/5378/virtuspro\n",
      "https://www.hltv.org/stats/teams//map/29/5378/virtuspro\n",
      "https://www.hltv.org/stats/teams//map/39/5378/virtuspro\n",
      "https://www.hltv.org/stats/teams//map/31/5378/virtuspro\n",
      "https://www.hltv.org/stats/teams//map/33/5378/virtuspro\n",
      "https://www.hltv.org/stats/teams//map/32/5378/virtuspro\n",
      "https://www.hltv.org/stats/teams//map/34/5378/virtuspro\n",
      "https://www.hltv.org/stats/teams//map/40/5378/virtuspro\n",
      "https://www.hltv.org/stats/teams//map/30/5378/virtuspro\n",
      "https://www.hltv.org/stats/teams//map/35/5378/virtuspro\n",
      "https://www.hltv.org/stats/teams//map/46/5378/virtuspro\n"
     ]
    },
    {
     "name": "stderr",
     "output_type": "stream",
     "text": [
      "\r",
      " 63%|███████████████████████████████████████████████████▌                              | 39/62 [06:03<03:57, 10.34s/it]"
     ]
    },
    {
     "name": "stdout",
     "output_type": "stream",
     "text": [
      "https://www.hltv.org/stats/teams//map/47/6615/optic\n",
      "https://www.hltv.org/stats/teams//map/29/6615/optic\n",
      "https://www.hltv.org/stats/teams//map/39/6615/optic\n",
      "https://www.hltv.org/stats/teams//map/31/6615/optic\n",
      "https://www.hltv.org/stats/teams//map/33/6615/optic\n",
      "https://www.hltv.org/stats/teams//map/32/6615/optic\n",
      "https://www.hltv.org/stats/teams//map/34/6615/optic\n",
      "https://www.hltv.org/stats/teams//map/40/6615/optic\n",
      "https://www.hltv.org/stats/teams//map/30/6615/optic\n",
      "https://www.hltv.org/stats/teams//map/35/6615/optic\n",
      "https://www.hltv.org/stats/teams//map/46/6615/optic\n"
     ]
    },
    {
     "name": "stderr",
     "output_type": "stream",
     "text": [
      "\r",
      " 65%|████████████████████████████████████████████████████▉                             | 40/62 [06:11<03:28,  9.47s/it]"
     ]
    },
    {
     "name": "stdout",
     "output_type": "stream",
     "text": [
      "https://www.hltv.org/stats/teams//map/47/5991/envy\n",
      "https://www.hltv.org/stats/teams//map/29/5991/envy\n",
      "https://www.hltv.org/stats/teams//map/39/5991/envy\n",
      "https://www.hltv.org/stats/teams//map/31/5991/envy\n",
      "https://www.hltv.org/stats/teams//map/33/5991/envy\n",
      "https://www.hltv.org/stats/teams//map/32/5991/envy\n",
      "https://www.hltv.org/stats/teams//map/34/5991/envy\n",
      "https://www.hltv.org/stats/teams//map/40/5991/envy\n",
      "https://www.hltv.org/stats/teams//map/30/5991/envy\n",
      "https://www.hltv.org/stats/teams//map/35/5991/envy\n",
      "https://www.hltv.org/stats/teams//map/46/5991/envy\n"
     ]
    },
    {
     "name": "stderr",
     "output_type": "stream",
     "text": [
      "\r",
      " 66%|██████████████████████████████████████████████████████▏                           | 41/62 [06:19<03:12,  9.15s/it]"
     ]
    },
    {
     "name": "stdout",
     "output_type": "stream",
     "text": [
      "https://www.hltv.org/stats/teams//map/47/7175/heroic\n",
      "https://www.hltv.org/stats/teams//map/29/7175/heroic\n",
      "https://www.hltv.org/stats/teams//map/39/7175/heroic\n",
      "https://www.hltv.org/stats/teams//map/31/7175/heroic\n",
      "https://www.hltv.org/stats/teams//map/33/7175/heroic\n",
      "https://www.hltv.org/stats/teams//map/32/7175/heroic\n",
      "https://www.hltv.org/stats/teams//map/34/7175/heroic\n",
      "https://www.hltv.org/stats/teams//map/40/7175/heroic\n",
      "https://www.hltv.org/stats/teams//map/30/7175/heroic\n",
      "https://www.hltv.org/stats/teams//map/35/7175/heroic\n",
      "https://www.hltv.org/stats/teams//map/46/7175/heroic\n"
     ]
    },
    {
     "name": "stderr",
     "output_type": "stream",
     "text": [
      "\r",
      " 68%|███████████████████████████████████████████████████████▌                          | 42/62 [06:29<03:05,  9.29s/it]"
     ]
    },
    {
     "name": "stdout",
     "output_type": "stream",
     "text": [
      "https://www.hltv.org/stats/teams//map/47/4688/epsilon\n",
      "https://www.hltv.org/stats/teams//map/29/4688/epsilon\n",
      "https://www.hltv.org/stats/teams//map/39/4688/epsilon\n",
      "https://www.hltv.org/stats/teams//map/31/4688/epsilon\n",
      "https://www.hltv.org/stats/teams//map/33/4688/epsilon\n",
      "https://www.hltv.org/stats/teams//map/32/4688/epsilon\n",
      "https://www.hltv.org/stats/teams//map/34/4688/epsilon\n",
      "https://www.hltv.org/stats/teams//map/40/4688/epsilon\n",
      "https://www.hltv.org/stats/teams//map/30/4688/epsilon\n",
      "https://www.hltv.org/stats/teams//map/35/4688/epsilon\n",
      "https://www.hltv.org/stats/teams//map/46/4688/epsilon\n"
     ]
    },
    {
     "name": "stderr",
     "output_type": "stream",
     "text": [
      "\r",
      " 69%|████████████████████████████████████████████████████████▊                         | 43/62 [06:37<02:51,  9.03s/it]"
     ]
    },
    {
     "name": "stdout",
     "output_type": "stream",
     "text": [
      "https://www.hltv.org/stats/teams//map/47/10386/skade\n",
      "https://www.hltv.org/stats/teams//map/29/10386/skade\n",
      "https://www.hltv.org/stats/teams//map/39/10386/skade\n",
      "https://www.hltv.org/stats/teams//map/31/10386/skade\n",
      "https://www.hltv.org/stats/teams//map/33/10386/skade\n",
      "https://www.hltv.org/stats/teams//map/32/10386/skade\n",
      "https://www.hltv.org/stats/teams//map/34/10386/skade\n",
      "https://www.hltv.org/stats/teams//map/40/10386/skade\n",
      "https://www.hltv.org/stats/teams//map/30/10386/skade\n",
      "https://www.hltv.org/stats/teams//map/35/10386/skade\n",
      "https://www.hltv.org/stats/teams//map/46/10386/skade\n"
     ]
    },
    {
     "name": "stderr",
     "output_type": "stream",
     "text": [
      "\r",
      " 71%|██████████████████████████████████████████████████████████▏                       | 44/62 [06:46<02:43,  9.08s/it]"
     ]
    },
    {
     "name": "stdout",
     "output_type": "stream",
     "text": [
      "https://www.hltv.org/stats/teams//map/47/7969/nemiga\n",
      "https://www.hltv.org/stats/teams//map/29/7969/nemiga\n",
      "https://www.hltv.org/stats/teams//map/39/7969/nemiga\n",
      "https://www.hltv.org/stats/teams//map/31/7969/nemiga\n",
      "https://www.hltv.org/stats/teams//map/33/7969/nemiga\n",
      "https://www.hltv.org/stats/teams//map/32/7969/nemiga\n",
      "https://www.hltv.org/stats/teams//map/34/7969/nemiga\n",
      "https://www.hltv.org/stats/teams//map/40/7969/nemiga\n",
      "https://www.hltv.org/stats/teams//map/30/7969/nemiga\n",
      "https://www.hltv.org/stats/teams//map/35/7969/nemiga\n",
      "https://www.hltv.org/stats/teams//map/46/7969/nemiga\n"
     ]
    },
    {
     "name": "stderr",
     "output_type": "stream",
     "text": [
      "\r",
      " 73%|███████████████████████████████████████████████████████████▌                      | 45/62 [06:56<02:36,  9.20s/it]"
     ]
    },
    {
     "name": "stdout",
     "output_type": "stream",
     "text": [
      "https://www.hltv.org/stats/teams//map/47/7718/movistar-riders\n",
      "https://www.hltv.org/stats/teams//map/29/7718/movistar-riders\n",
      "https://www.hltv.org/stats/teams//map/39/7718/movistar-riders\n",
      "https://www.hltv.org/stats/teams//map/31/7718/movistar-riders\n",
      "https://www.hltv.org/stats/teams//map/33/7718/movistar-riders\n",
      "https://www.hltv.org/stats/teams//map/32/7718/movistar-riders\n",
      "https://www.hltv.org/stats/teams//map/34/7718/movistar-riders\n",
      "https://www.hltv.org/stats/teams//map/40/7718/movistar-riders\n",
      "https://www.hltv.org/stats/teams//map/30/7718/movistar-riders\n",
      "https://www.hltv.org/stats/teams//map/35/7718/movistar-riders\n",
      "https://www.hltv.org/stats/teams//map/46/7718/movistar-riders\n"
     ]
    },
    {
     "name": "stderr",
     "output_type": "stream",
     "text": [
      "\r",
      " 74%|████████████████████████████████████████████████████████████▊                     | 46/62 [07:05<02:26,  9.18s/it]"
     ]
    },
    {
     "name": "stdout",
     "output_type": "stream",
     "text": [
      "https://www.hltv.org/stats/teams//map/47/7020/spirit\n",
      "https://www.hltv.org/stats/teams//map/29/7020/spirit\n",
      "https://www.hltv.org/stats/teams//map/39/7020/spirit\n",
      "https://www.hltv.org/stats/teams//map/31/7020/spirit\n",
      "https://www.hltv.org/stats/teams//map/33/7020/spirit\n",
      "https://www.hltv.org/stats/teams//map/32/7020/spirit\n",
      "https://www.hltv.org/stats/teams//map/34/7020/spirit\n",
      "https://www.hltv.org/stats/teams//map/40/7020/spirit\n",
      "https://www.hltv.org/stats/teams//map/30/7020/spirit\n",
      "https://www.hltv.org/stats/teams//map/35/7020/spirit\n",
      "https://www.hltv.org/stats/teams//map/46/7020/spirit\n"
     ]
    },
    {
     "name": "stderr",
     "output_type": "stream",
     "text": [
      "\r",
      " 76%|██████████████████████████████████████████████████████████████▏                   | 47/62 [07:14<02:19,  9.27s/it]"
     ]
    },
    {
     "name": "stdout",
     "output_type": "stream",
     "text": [
      "https://www.hltv.org/stats/teams//map/47/6673/nrg\n",
      "https://www.hltv.org/stats/teams//map/29/6673/nrg\n",
      "https://www.hltv.org/stats/teams//map/39/6673/nrg\n",
      "https://www.hltv.org/stats/teams//map/31/6673/nrg\n",
      "https://www.hltv.org/stats/teams//map/33/6673/nrg\n",
      "https://www.hltv.org/stats/teams//map/32/6673/nrg\n",
      "https://www.hltv.org/stats/teams//map/34/6673/nrg\n",
      "https://www.hltv.org/stats/teams//map/40/6673/nrg\n",
      "https://www.hltv.org/stats/teams//map/30/6673/nrg\n",
      "https://www.hltv.org/stats/teams//map/35/6673/nrg\n",
      "https://www.hltv.org/stats/teams//map/46/6673/nrg\n"
     ]
    },
    {
     "name": "stderr",
     "output_type": "stream",
     "text": [
      "\r",
      " 77%|███████████████████████████████████████████████████████████████▍                  | 48/62 [07:23<02:08,  9.18s/it]"
     ]
    },
    {
     "name": "stdout",
     "output_type": "stream",
     "text": [
      "https://www.hltv.org/stats/teams//map/47/7653/isurus\n",
      "https://www.hltv.org/stats/teams//map/29/7653/isurus\n",
      "https://www.hltv.org/stats/teams//map/39/7653/isurus\n",
      "https://www.hltv.org/stats/teams//map/31/7653/isurus\n",
      "https://www.hltv.org/stats/teams//map/33/7653/isurus\n",
      "https://www.hltv.org/stats/teams//map/32/7653/isurus\n",
      "https://www.hltv.org/stats/teams//map/34/7653/isurus\n",
      "https://www.hltv.org/stats/teams//map/40/7653/isurus\n",
      "https://www.hltv.org/stats/teams//map/30/7653/isurus\n",
      "https://www.hltv.org/stats/teams//map/35/7653/isurus\n",
      "https://www.hltv.org/stats/teams//map/46/7653/isurus\n"
     ]
    },
    {
     "name": "stderr",
     "output_type": "stream",
     "text": [
      "\r",
      " 79%|████████████████████████████████████████████████████████████████▊                 | 49/62 [07:31<01:54,  8.79s/it]"
     ]
    },
    {
     "name": "stdout",
     "output_type": "stream",
     "text": [
      "https://www.hltv.org/stats/teams//map/47/5395/penta\n",
      "https://www.hltv.org/stats/teams//map/29/5395/penta\n",
      "https://www.hltv.org/stats/teams//map/39/5395/penta\n",
      "https://www.hltv.org/stats/teams//map/31/5395/penta\n",
      "https://www.hltv.org/stats/teams//map/33/5395/penta\n",
      "https://www.hltv.org/stats/teams//map/32/5395/penta\n",
      "https://www.hltv.org/stats/teams//map/34/5395/penta\n",
      "https://www.hltv.org/stats/teams//map/40/5395/penta\n",
      "https://www.hltv.org/stats/teams//map/30/5395/penta\n",
      "https://www.hltv.org/stats/teams//map/35/5395/penta\n",
      "https://www.hltv.org/stats/teams//map/46/5395/penta\n"
     ]
    },
    {
     "name": "stderr",
     "output_type": "stream",
     "text": [
      "\r",
      " 81%|██████████████████████████████████████████████████████████████████▏               | 50/62 [07:40<01:45,  8.83s/it]"
     ]
    },
    {
     "name": "stdout",
     "output_type": "stream",
     "text": [
      "https://www.hltv.org/stats/teams//map/47/8068/ago\n",
      "https://www.hltv.org/stats/teams//map/29/8068/ago\n",
      "https://www.hltv.org/stats/teams//map/39/8068/ago\n",
      "https://www.hltv.org/stats/teams//map/31/8068/ago\n",
      "https://www.hltv.org/stats/teams//map/33/8068/ago\n",
      "https://www.hltv.org/stats/teams//map/32/8068/ago\n",
      "https://www.hltv.org/stats/teams//map/34/8068/ago\n",
      "https://www.hltv.org/stats/teams//map/40/8068/ago\n",
      "https://www.hltv.org/stats/teams//map/30/8068/ago\n",
      "https://www.hltv.org/stats/teams//map/35/8068/ago\n",
      "https://www.hltv.org/stats/teams//map/46/8068/ago\n"
     ]
    },
    {
     "name": "stderr",
     "output_type": "stream",
     "text": [
      "\r",
      " 82%|███████████████████████████████████████████████████████████████████▍              | 51/62 [07:51<01:43,  9.39s/it]"
     ]
    },
    {
     "name": "stdout",
     "output_type": "stream",
     "text": [
      "https://www.hltv.org/stats/teams//map/47/4674/ldlc\n",
      "https://www.hltv.org/stats/teams//map/29/4674/ldlc\n",
      "https://www.hltv.org/stats/teams//map/39/4674/ldlc\n",
      "https://www.hltv.org/stats/teams//map/31/4674/ldlc\n",
      "https://www.hltv.org/stats/teams//map/33/4674/ldlc\n",
      "https://www.hltv.org/stats/teams//map/32/4674/ldlc\n",
      "https://www.hltv.org/stats/teams//map/34/4674/ldlc\n",
      "https://www.hltv.org/stats/teams//map/40/4674/ldlc\n",
      "https://www.hltv.org/stats/teams//map/30/4674/ldlc\n",
      "https://www.hltv.org/stats/teams//map/35/4674/ldlc\n",
      "https://www.hltv.org/stats/teams//map/46/4674/ldlc\n"
     ]
    },
    {
     "name": "stderr",
     "output_type": "stream",
     "text": [
      "\r",
      " 84%|████████████████████████████████████████████████████████████████████▊             | 52/62 [08:01<01:35,  9.50s/it]"
     ]
    },
    {
     "name": "stdout",
     "output_type": "stream",
     "text": [
      "https://www.hltv.org/stats/teams//map/47/6651/gambit\n",
      "https://www.hltv.org/stats/teams//map/29/6651/gambit\n",
      "https://www.hltv.org/stats/teams//map/39/6651/gambit\n",
      "https://www.hltv.org/stats/teams//map/31/6651/gambit\n",
      "https://www.hltv.org/stats/teams//map/33/6651/gambit\n",
      "https://www.hltv.org/stats/teams//map/32/6651/gambit\n",
      "https://www.hltv.org/stats/teams//map/34/6651/gambit\n",
      "https://www.hltv.org/stats/teams//map/40/6651/gambit\n",
      "https://www.hltv.org/stats/teams//map/30/6651/gambit\n",
      "https://www.hltv.org/stats/teams//map/35/6651/gambit\n",
      "https://www.hltv.org/stats/teams//map/46/6651/gambit\n"
     ]
    },
    {
     "name": "stderr",
     "output_type": "stream",
     "text": [
      "\r",
      " 85%|██████████████████████████████████████████████████████████████████████            | 53/62 [08:09<01:22,  9.20s/it]"
     ]
    },
    {
     "name": "stdout",
     "output_type": "stream",
     "text": [
      "https://www.hltv.org/stats/teams//map/47/7187/nexus\n",
      "https://www.hltv.org/stats/teams//map/29/7187/nexus\n",
      "https://www.hltv.org/stats/teams//map/39/7187/nexus\n",
      "https://www.hltv.org/stats/teams//map/31/7187/nexus\n",
      "https://www.hltv.org/stats/teams//map/33/7187/nexus\n",
      "https://www.hltv.org/stats/teams//map/32/7187/nexus\n",
      "https://www.hltv.org/stats/teams//map/34/7187/nexus\n",
      "https://www.hltv.org/stats/teams//map/40/7187/nexus\n",
      "https://www.hltv.org/stats/teams//map/30/7187/nexus\n",
      "https://www.hltv.org/stats/teams//map/35/7187/nexus\n",
      "https://www.hltv.org/stats/teams//map/46/7187/nexus\n"
     ]
    },
    {
     "name": "stderr",
     "output_type": "stream",
     "text": [
      "\r",
      " 87%|███████████████████████████████████████████████████████████████████████▍          | 54/62 [08:18<01:13,  9.18s/it]"
     ]
    },
    {
     "name": "stdout",
     "output_type": "stream",
     "text": [
      "https://www.hltv.org/stats/teams//map/47/8120/avangar\n",
      "https://www.hltv.org/stats/teams//map/29/8120/avangar\n",
      "https://www.hltv.org/stats/teams//map/39/8120/avangar\n",
      "https://www.hltv.org/stats/teams//map/31/8120/avangar\n",
      "https://www.hltv.org/stats/teams//map/33/8120/avangar\n",
      "https://www.hltv.org/stats/teams//map/32/8120/avangar\n",
      "https://www.hltv.org/stats/teams//map/34/8120/avangar\n",
      "https://www.hltv.org/stats/teams//map/40/8120/avangar\n",
      "https://www.hltv.org/stats/teams//map/30/8120/avangar\n",
      "https://www.hltv.org/stats/teams//map/35/8120/avangar\n",
      "https://www.hltv.org/stats/teams//map/46/8120/avangar\n"
     ]
    },
    {
     "name": "stderr",
     "output_type": "stream",
     "text": [
      "\r",
      " 89%|████████████████████████████████████████████████████████████████████████▋         | 55/62 [08:26<01:01,  8.80s/it]"
     ]
    },
    {
     "name": "stdout",
     "output_type": "stream",
     "text": [
      "https://www.hltv.org/stats/teams//map/47/8504/sj\n",
      "https://www.hltv.org/stats/teams//map/29/8504/sj\n",
      "https://www.hltv.org/stats/teams//map/39/8504/sj\n",
      "https://www.hltv.org/stats/teams//map/31/8504/sj\n",
      "https://www.hltv.org/stats/teams//map/33/8504/sj\n",
      "https://www.hltv.org/stats/teams//map/32/8504/sj\n",
      "https://www.hltv.org/stats/teams//map/34/8504/sj\n",
      "https://www.hltv.org/stats/teams//map/40/8504/sj\n",
      "https://www.hltv.org/stats/teams//map/30/8504/sj\n",
      "https://www.hltv.org/stats/teams//map/35/8504/sj\n",
      "https://www.hltv.org/stats/teams//map/46/8504/sj\n"
     ]
    },
    {
     "name": "stderr",
     "output_type": "stream",
     "text": [
      "\r",
      " 90%|██████████████████████████████████████████████████████████████████████████        | 56/62 [08:34<00:51,  8.59s/it]"
     ]
    },
    {
     "name": "stdout",
     "output_type": "stream",
     "text": [
      "https://www.hltv.org/stats/teams//map/47/10567/saw\n",
      "https://www.hltv.org/stats/teams//map/29/10567/saw\n",
      "https://www.hltv.org/stats/teams//map/39/10567/saw\n",
      "https://www.hltv.org/stats/teams//map/31/10567/saw\n",
      "https://www.hltv.org/stats/teams//map/33/10567/saw\n",
      "https://www.hltv.org/stats/teams//map/32/10567/saw\n",
      "https://www.hltv.org/stats/teams//map/34/10567/saw\n",
      "https://www.hltv.org/stats/teams//map/40/10567/saw\n",
      "https://www.hltv.org/stats/teams//map/30/10567/saw\n",
      "https://www.hltv.org/stats/teams//map/35/10567/saw\n",
      "https://www.hltv.org/stats/teams//map/46/10567/saw\n"
     ]
    },
    {
     "name": "stderr",
     "output_type": "stream",
     "text": [
      "\r",
      " 92%|███████████████████████████████████████████████████████████████████████████▍      | 57/62 [08:43<00:42,  8.59s/it]"
     ]
    },
    {
     "name": "stdout",
     "output_type": "stream",
     "text": [
      "https://www.hltv.org/stats/teams//map/47/7461/copenhagen-flames\n",
      "https://www.hltv.org/stats/teams//map/29/7461/copenhagen-flames\n",
      "https://www.hltv.org/stats/teams//map/39/7461/copenhagen-flames\n",
      "https://www.hltv.org/stats/teams//map/31/7461/copenhagen-flames\n",
      "https://www.hltv.org/stats/teams//map/33/7461/copenhagen-flames\n",
      "https://www.hltv.org/stats/teams//map/32/7461/copenhagen-flames\n",
      "https://www.hltv.org/stats/teams//map/34/7461/copenhagen-flames\n",
      "https://www.hltv.org/stats/teams//map/40/7461/copenhagen-flames\n",
      "https://www.hltv.org/stats/teams//map/30/7461/copenhagen-flames\n",
      "https://www.hltv.org/stats/teams//map/35/7461/copenhagen-flames\n",
      "https://www.hltv.org/stats/teams//map/46/7461/copenhagen-flames\n"
     ]
    },
    {
     "name": "stderr",
     "output_type": "stream",
     "text": [
      "\r",
      " 94%|████████████████████████████████████████████████████████████████████████████▋     | 58/62 [08:53<00:36,  9.22s/it]"
     ]
    },
    {
     "name": "stdout",
     "output_type": "stream",
     "text": [
      "https://www.hltv.org/stats/teams//map/47/4602/tricked\n",
      "https://www.hltv.org/stats/teams//map/29/4602/tricked\n",
      "https://www.hltv.org/stats/teams//map/39/4602/tricked\n",
      "https://www.hltv.org/stats/teams//map/31/4602/tricked\n",
      "https://www.hltv.org/stats/teams//map/33/4602/tricked\n",
      "https://www.hltv.org/stats/teams//map/32/4602/tricked\n",
      "https://www.hltv.org/stats/teams//map/34/4602/tricked\n",
      "https://www.hltv.org/stats/teams//map/40/4602/tricked\n",
      "https://www.hltv.org/stats/teams//map/30/4602/tricked\n",
      "https://www.hltv.org/stats/teams//map/35/4602/tricked\n",
      "https://www.hltv.org/stats/teams//map/46/4602/tricked\n"
     ]
    },
    {
     "name": "stderr",
     "output_type": "stream",
     "text": [
      "\r",
      " 95%|██████████████████████████████████████████████████████████████████████████████    | 59/62 [09:04<00:28,  9.60s/it]"
     ]
    },
    {
     "name": "stdout",
     "output_type": "stream",
     "text": [
      "https://www.hltv.org/stats/teams//map/47/8248/pact\n",
      "https://www.hltv.org/stats/teams//map/29/8248/pact\n",
      "https://www.hltv.org/stats/teams//map/39/8248/pact\n",
      "https://www.hltv.org/stats/teams//map/31/8248/pact\n",
      "https://www.hltv.org/stats/teams//map/33/8248/pact\n",
      "https://www.hltv.org/stats/teams//map/32/8248/pact\n",
      "https://www.hltv.org/stats/teams//map/34/8248/pact\n",
      "https://www.hltv.org/stats/teams//map/40/8248/pact\n",
      "https://www.hltv.org/stats/teams//map/30/8248/pact\n",
      "https://www.hltv.org/stats/teams//map/35/8248/pact\n",
      "https://www.hltv.org/stats/teams//map/46/8248/pact\n"
     ]
    },
    {
     "name": "stderr",
     "output_type": "stream",
     "text": [
      "\r",
      " 97%|███████████████████████████████████████████████████████████████████████████████▎  | 60/62 [09:12<00:18,  9.24s/it]"
     ]
    },
    {
     "name": "stdout",
     "output_type": "stream",
     "text": [
      "https://www.hltv.org/stats/teams//map/47/4501/alternate-attax\n",
      "https://www.hltv.org/stats/teams//map/29/4501/alternate-attax\n",
      "https://www.hltv.org/stats/teams//map/39/4501/alternate-attax\n",
      "https://www.hltv.org/stats/teams//map/31/4501/alternate-attax\n",
      "https://www.hltv.org/stats/teams//map/33/4501/alternate-attax\n",
      "https://www.hltv.org/stats/teams//map/32/4501/alternate-attax\n",
      "https://www.hltv.org/stats/teams//map/34/4501/alternate-attax\n",
      "https://www.hltv.org/stats/teams//map/40/4501/alternate-attax\n",
      "https://www.hltv.org/stats/teams//map/30/4501/alternate-attax\n",
      "https://www.hltv.org/stats/teams//map/35/4501/alternate-attax\n",
      "https://www.hltv.org/stats/teams//map/46/4501/alternate-attax\n"
     ]
    },
    {
     "name": "stderr",
     "output_type": "stream",
     "text": [
      "\r",
      " 98%|████████████████████████████████████████████████████████████████████████████████▋ | 61/62 [09:23<00:09,  9.71s/it]"
     ]
    },
    {
     "name": "stdout",
     "output_type": "stream",
     "text": [
      "https://www.hltv.org/stats/teams//map/47/7681/izako-boars\n",
      "https://www.hltv.org/stats/teams//map/29/7681/izako-boars\n",
      "https://www.hltv.org/stats/teams//map/39/7681/izako-boars\n",
      "https://www.hltv.org/stats/teams//map/31/7681/izako-boars\n",
      "https://www.hltv.org/stats/teams//map/33/7681/izako-boars\n",
      "https://www.hltv.org/stats/teams//map/32/7681/izako-boars\n",
      "https://www.hltv.org/stats/teams//map/34/7681/izako-boars\n",
      "https://www.hltv.org/stats/teams//map/40/7681/izako-boars\n",
      "https://www.hltv.org/stats/teams//map/30/7681/izako-boars\n",
      "https://www.hltv.org/stats/teams//map/35/7681/izako-boars\n",
      "https://www.hltv.org/stats/teams//map/46/7681/izako-boars\n"
     ]
    },
    {
     "name": "stderr",
     "output_type": "stream",
     "text": [
      "100%|██████████████████████████████████████████████████████████████████████████████████| 62/62 [09:31<00:00,  9.22s/it]\n"
     ]
    }
   ],
   "source": [
    "stats = []\n",
    "\n",
    "for team_id, team_name in tqdm(teams.items()):\n",
    "    for map_id, map_title in maps.items():\n",
    "        \n",
    "        current_url = f'{main_url}/map/{map_id}/{team_id}/{team_name}'\n",
    "        print(current_url)\n",
    "        current_table = get_table(current_url)\n",
    "        stats += get_stats_from_table(current_table, map_title)\n",
    "        "
   ]
  },
  {
   "cell_type": "code",
   "execution_count": 52,
   "id": "d79ae802",
   "metadata": {},
   "outputs": [],
   "source": [
    "def current_lineup(team, date):\n",
    "    \n",
    "    if team in rosters.keys():\n",
    "        for roster in rosters[team]:\n",
    "            dates = roster.get_dates()\n",
    "\n",
    "\n",
    "            if date >= dates[0] and date < dates[1]:\n",
    "                lineup = roster.get_lineup()\n",
    "                return lineup\n",
    "    return None"
   ]
  },
  {
   "cell_type": "code",
   "execution_count": 53,
   "id": "1d1eb0e2",
   "metadata": {},
   "outputs": [],
   "source": [
    "for game in stats:\n",
    "    \n",
    "    team_1 = game[\"team_1\"]\n",
    "    team_2 = game[\"team_2\"]\n",
    "    date = game[\"date\"]\n",
    "    \n",
    "    lineup_1 = current_lineup(team_1, date)\n",
    "    lineup_2 = current_lineup(team_2, date)\n",
    "    \n",
    "    \n",
    "    game[\"lineup_1\"] = lineup_1\n",
    "    game[\"lineup_2\"] = lineup_2"
   ]
  },
  {
   "cell_type": "code",
   "execution_count": 54,
   "id": "0590878e",
   "metadata": {
    "scrolled": true
   },
   "outputs": [],
   "source": [
    "df = pd.DataFrame.from_dict(stats)"
   ]
  },
  {
   "cell_type": "code",
   "execution_count": 55,
   "id": "f1736301",
   "metadata": {},
   "outputs": [],
   "source": [
    "df = df.dropna()\n",
    "df.to_csv(\"stats.csv\")"
   ]
  },
  {
   "cell_type": "code",
   "execution_count": null,
   "id": "98d561c0",
   "metadata": {},
   "outputs": [],
   "source": []
  }
 ],
 "metadata": {
  "kernelspec": {
   "display_name": "Python 3 (ipykernel)",
   "language": "python",
   "name": "python3"
  },
  "language_info": {
   "codemirror_mode": {
    "name": "ipython",
    "version": 3
   },
   "file_extension": ".py",
   "mimetype": "text/x-python",
   "name": "python",
   "nbconvert_exporter": "python",
   "pygments_lexer": "ipython3",
   "version": "3.9.13"
  }
 },
 "nbformat": 4,
 "nbformat_minor": 5
}
